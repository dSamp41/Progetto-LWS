{
 "cells": [
  {
   "cell_type": "code",
   "execution_count": 82,
   "id": "3a239d86-b030-4ae7-a3e5-bd405f6fb21c",
   "metadata": {},
   "outputs": [],
   "source": [
    "import pandas as pd\n",
    "import numpy as np\n",
    "import matplotlib.pyplot as plt\n",
    "import random\n",
    "\n",
    "base: str = \"./datasets/\""
   ]
  },
  {
   "cell_type": "markdown",
   "id": "84c60249-5b2a-4c75-a1c8-92fca38d6c20",
   "metadata": {},
   "source": [
    "# Load Transactions dataset"
   ]
  },
  {
   "cell_type": "code",
   "execution_count": 80,
   "id": "0607d1ef-b88f-418c-8261-502cc048f8e2",
   "metadata": {},
   "outputs": [
    {
     "name": "stdout",
     "output_type": "stream",
     "text": [
      "<class 'pandas.core.frame.DataFrame'>\n",
      "RangeIndex: 10572829 entries, 0 to 10572828\n",
      "Data columns (total 5 columns):\n",
      " #   Column      Dtype\n",
      "---  ------      -----\n",
      " 0   timestamp   int64\n",
      " 1   blockId     int32\n",
      " 2   txId        int32\n",
      " 3   isCoinbase  int8 \n",
      " 4   fee         int64\n",
      "dtypes: int32(2), int64(2), int8(1)\n",
      "memory usage: 252.1 MB\n",
      "None\n",
      "    timestamp  blockId  txId  isCoinbase  fee\n",
      "0  1231006505        0     0           1    0\n",
      "1  1231469665        1     1           1    0\n",
      "2  1231469744        2     2           1    0\n",
      "3  1231470173        3     3           1    0\n",
      "4  1231470988        4     4           1    0\n",
      "           timestamp  blockId      txId  isCoinbase     fee\n",
      "10572824  1356997957   214562  10572822           0  100000\n",
      "10572825  1356997957   214562  10572823           0  100000\n",
      "10572826  1356997957   214562  10572824           0  100000\n",
      "10572827  1356997957   214562  10572825           0  100000\n",
      "10572828  1356997957   214562  10572826           0  100000\n"
     ]
    },
    {
     "data": {
      "text/plain": [
       "'\\nmax vals\\ntimestamp: 1356997957 -> int64\\nblockId: 214562 -> int32\\ntxId: 10572826 -> int32\\nisCoinbase -> np.bool_\\nfee: 17179869184 -> int64\\n'"
      ]
     },
     "execution_count": 80,
     "metadata": {},
     "output_type": "execute_result"
    }
   ],
   "source": [
    "transactions = pd.read_csv(\n",
    "    base + \"transactions.csv\",\n",
    "    names=['timestamp', 'blockId', 'txId', 'isCoinbase', 'fee'],\n",
    "    dtype={'blockId': np.int32, 'txId': np.int32, 'isCoinbase': np.int8},\n",
    "    parse_dates=True\n",
    ")\n",
    "\n",
    "print(transactions.info())\n",
    "#print(pd.concat([transactions.head(), transactions.tail()]))\n",
    "print(transactions.head())\n",
    "print(transactions.tail())\n",
    "\n",
    "'''\n",
    "max vals\n",
    "timestamp: 1356997957 -> int64\n",
    "blockId: 214562 -> int32\n",
    "txId: 10572826 -> int32\n",
    "isCoinbase -> np.bool_\n",
    "fee: 17179869184 -> int64\n",
    "'''\n",
    "\n",
    "#print(transactions.nlargest(5, 'fee'))\n"
   ]
  },
  {
   "cell_type": "markdown",
   "id": "0b5f9846-5e8e-43fa-82ba-a50ec7f601eb",
   "metadata": {},
   "source": [
    "# Load Inputs dataset"
   ]
  },
  {
   "cell_type": "code",
   "execution_count": 24,
   "id": "ea0539cd-42a8-428f-8573-06de9d999c86",
   "metadata": {},
   "outputs": [],
   "source": [
    "inputs = pd.read_csv(\n",
    "    base + \"inputs.csv\",\n",
    "    names=['txId', 'prevTxId', 'prevTxPos'],\n",
    "    dtype={'txId': np.int32, 'prevTxId': np.int32, 'prevTxPos': np.int16},\n",
    ")"
   ]
  },
  {
   "cell_type": "markdown",
   "id": "3030dc47-57ba-415f-a28f-183541bbfb8f",
   "metadata": {},
   "source": [
    "# Load Outputs dataset "
   ]
  },
  {
   "cell_type": "code",
   "execution_count": 25,
   "id": "ef4a30e0-b34c-4fd0-a38d-8ac5e06f5d1d",
   "metadata": {},
   "outputs": [
    {
     "name": "stdout",
     "output_type": "stream",
     "text": [
      "<class 'pandas.core.frame.DataFrame'>\n",
      "RangeIndex: 24613799 entries, 0 to 24613798\n",
      "Data columns (total 5 columns):\n",
      " #   Column      Dtype\n",
      "---  ------      -----\n",
      " 0   txId        int32\n",
      " 1   txPos       int16\n",
      " 2   addressId   int32\n",
      " 3   amount      int64\n",
      " 4   scriptType  int8 \n",
      "dtypes: int16(1), int32(2), int64(1), int8(1)\n",
      "memory usage: 446.0 MB\n",
      "None\n"
     ]
    }
   ],
   "source": [
    "outputs = pd.read_csv(\n",
    "    base + \"outputs.csv\",\n",
    "    names=['txId', 'txPos', 'addressId', 'amount', 'scriptType'],\n",
    "    dtype={'txId': np.int32, 'txPos': np.int16, 'addressId': np.int32, 'amount': np.int64, 'scriptType': np.int8}\n",
    ")\n",
    "\n",
    "print(outputs.info())"
   ]
  },
  {
   "cell_type": "markdown",
   "id": "8d0f9e24-6f71-4105-8118-090f8d12f205",
   "metadata": {},
   "source": [
    "# Load Mappings dataset"
   ]
  },
  {
   "cell_type": "code",
   "execution_count": 26,
   "id": "fb76b481-0586-4ea1-8390-a074ede057d1",
   "metadata": {},
   "outputs": [],
   "source": [
    "mappings = pd.read_csv(\n",
    "    base + \"mappings.csv\",\n",
    "    names=['addressId', 'hash'],\n",
    "    dtype={'addressId': str, 'hash': np.int32}\n",
    ")"
   ]
  },
  {
   "cell_type": "markdown",
   "id": "befce5ba-46e6-4b8e-963a-4d0ff011bb60",
   "metadata": {},
   "source": [
    "# Script table"
   ]
  },
  {
   "cell_type": "code",
   "execution_count": 27,
   "id": "09b8455f-2399-4c42-9963-cf647808a81a",
   "metadata": {},
   "outputs": [
    {
     "name": "stdout",
     "output_type": "stream",
     "text": [
      "<class 'pandas.core.frame.DataFrame'>\n",
      "RangeIndex: 8 entries, 0 to 7\n",
      "Data columns (total 3 columns):\n",
      " #   Column      Non-Null Count  Dtype \n",
      "---  ------      --------------  ----- \n",
      " 0   scriptCode  8 non-null      int64 \n",
      " 1   scriptType  8 non-null      object\n",
      " 2   scriptSize  8 non-null      int64 \n",
      "dtypes: int64(2), object(1)\n",
      "memory usage: 320.0+ bytes\n",
      "None\n",
      "   scriptCode scriptType  scriptSize\n",
      "0           0    Unknown           0\n",
      "1           1       P2PK         153\n",
      "2           2       P2KH         180\n",
      "3           3       P2SH         291\n",
      "4           4     RETURN           0\n",
      "5           5      EMPTY           0\n",
      "6           6     P2WPKH           0\n",
      "7           7      P2WSH           0\n"
     ]
    }
   ],
   "source": [
    "data = {'scriptCode': [0,1,2,3,4,5,6,7], \n",
    "        'scriptType':[\"Unknown\", \"P2PK\", \"P2KH\", \"P2SH\", \"RETURN\", \"EMPTY\", \"P2WPKH\", \"P2WSH\"],\n",
    "        'scriptSize': [0, 153, 180, 291, 0, 0, 0, 0]\n",
    "       }\n",
    "\n",
    "scripts = pd.DataFrame(\n",
    "    data,\n",
    "    #dtypes={'scriptCode': np.int8, 'scriptType': str, 'scriptSize': np.int8}\n",
    "                  \n",
    ")\n",
    "print(scripts.info())\n",
    "print(scripts)\n"
   ]
  },
  {
   "cell_type": "markdown",
   "id": "a065358c-b720-418c-8a86-ed8fa8073c8b",
   "metadata": {},
   "source": [
    "# Size of transactions"
   ]
  },
  {
   "cell_type": "code",
   "execution_count": 28,
   "id": "31511ec3-7371-43b6-8b7a-5d4c3f7e3f30",
   "metadata": {},
   "outputs": [
    {
     "name": "stdout",
     "output_type": "stream",
     "text": [
      "         timestamp  txCount\n",
      "0       1231006505        1\n",
      "1       1231469665        1\n",
      "2       1231469744        1\n",
      "3       1231470173        1\n",
      "4       1231470988        1\n",
      "...            ...      ...\n",
      "214464  1356996072      418\n",
      "214465  1356996754      259\n",
      "214466  1356997591      142\n",
      "214467  1356997908        1\n",
      "214468  1356997957      260\n",
      "\n",
      "[214469 rows x 2 columns]\n"
     ]
    },
    {
     "data": {
      "text/plain": [
       "<Axes: title={'center': 'Numero di transazioni nel tempo'}, xlabel='timestamp'>"
      ]
     },
     "execution_count": 28,
     "metadata": {},
     "output_type": "execute_result"
    },
    {
     "data": {
      "image/png": "[encoded data removed]",
      "text/plain": [
       "<Figure size 640x480 with 1 Axes>"
      ]
     },
     "metadata": {},
     "output_type": "display_data"
    }
   ],
   "source": [
    "#Df to have the num of transactions for every timestamp\n",
    "transCount = transactions \\\n",
    "    .groupby('timestamp')['txId'].count() \\\n",
    "    .reset_index() \\\n",
    "    .rename(columns={'txId':'txCount'})\n",
    "print(transCount)\n",
    "\n",
    "transCount.plot.line(title='Numero di transazioni nel tempo', x='timestamp', y='txCount')"
   ]
  },
  {
   "cell_type": "code",
   "execution_count": 157,
   "id": "253b63c8-54b0-4f0c-b4a3-99442309f926",
   "metadata": {},
   "outputs": [],
   "source": [
    "def getTransactionInputs(inputsDf: pd.DataFrame, txId: int) -> pd.DataFrame:\n",
    "    cond = inputsDf['txId'] == txId\n",
    "    return inputsDf[cond]\n",
    "\n",
    "def getTransactionOutputs(outputsDf: pd.DataFrame, txId: int) -> pd.DataFrame:\n",
    "    cond = outputsDf['txId'] == txId\n",
    "    return outputsDf[cond]\n",
    "\n",
    "def getTransactionSize(transactionsDf: pd.DataFrame, inputsDf: pd.DataFrame, outputsDf: pd.DataFrame, txId: int) -> float:\n",
    "    ''' Ottieni la dimensione di una transazione '''\n",
    "    \n",
    "    INPUT_SIZE = 40\n",
    "    OUTPUT_SIZE = 9\n",
    "\n",
    "    num_inputs = len(getTransactionInputs(inputsDf, txId))\n",
    "    num_outputs = len(getTransactionOutputs(outputsDf, txId))\n",
    "    script_size = 0\n",
    "\n",
    "    # TODO: num_outputs > 1 ==> script diversi; quale contare?\n",
    "    return INPUT_SIZE * num_inputs + OUTPUT_SIZE * num_outputs + script_size\n",
    "\n",
    "\n",
    "def getTransactionsAtTimestamp(transactionsDf: pd.DataFrame, timestamp: int) -> pd.DataFrame:\n",
    "    cond = transactionsDf['timestamp'] == timestamp\n",
    "    return transactionsDf[cond]\n",
    "\n",
    "\n",
    "def getCongestionAtTs(timestamp: int, transactionsDf: pd.DataFrame, inputsDf: pd.DataFrame, outputsDf: pd.DataFrame):\n",
    "    transactions_at_ts = getTransactionsAtTimestamp(transactionsDf, timestamp)\n",
    "\n",
    "    tx_sizes = [getTransactionSize(transactionsDf, inputsDf, outputsDf, txId) for txId in transactions_at_ts['txId']]\n",
    "\n",
    "    return sum(tx_sizes)\n",
    "\n",
    "\n",
    "def getAverageFeeAtTimestamp(transactionsDf: pd.DataFrame, timestamp: int):\n",
    "    tx_ts: pd.DataFrame = getTransactionsAtTimestamp(transactionsDf, timestamp)\n",
    "\n",
    "    return tx_ts['fee'].mean()\n",
    "\n",
    "\n",
    "def getTsCongestionDf(transactionsDf: pd.DataFrame, inputsDf: pd.DataFrame, outputsDf: pd.DataFrame) -> pd.DataFrame:    \n",
    "    not_coinbase = transactionsDf['isCoinbase'] == 0\n",
    "    transactionsDf = transactionsDf[not_coinbase]\n",
    "    \n",
    "    timestamps = transactionsDf['timestamp'][0:30000]\n",
    "    congs = timestamps.apply(getCongestionAtTs, args=(transactionsDf, inputsDf, outputsDf))\n",
    "    fees = timestamps.apply(lambda ts: getAverageFeeAtTimestamp(transactionsDf, ts))\n",
    "    \n",
    "    return pd.DataFrame({'Timestamp': timestamps, 'Congestion': congs, 'Fee': fee})"
   ]
  },
  {
   "cell_type": "code",
   "execution_count": 78,
   "id": "11af5e64-0410-4fae-96de-5a8ca52a7930",
   "metadata": {},
   "outputs": [
    {
     "name": "stdout",
     "output_type": "stream",
     "text": [
      "1\n",
      "      txId  prevTxId  prevTxPos\n",
      "640  10888     10760          0\n",
      "2\n",
      "        txId  txPos  addressId      amount  scriptType\n",
      "10915  10888      0      10849  1000000000           2\n",
      "10916  10888      1      10722  4000000000           1\n"
     ]
    }
   ],
   "source": [
    "TX_ID = 10888\n",
    "\n",
    "txInputs = getTransactionInputs(inputs, TX_ID)\n",
    "print(len(txInputs))\n",
    "print(txInputs)\n",
    "\n",
    "txOutputs = getTransactionOutputs(outputs, TX_ID)\n",
    "print(len(txOutputs))\n",
    "print(txOutputs)"
   ]
  },
  {
   "cell_type": "code",
   "execution_count": 31,
   "id": "572904bb-81f4-4258-a043-fb80d98d0d94",
   "metadata": {
    "collapsed": true,
    "jupyter": {
     "outputs_hidden": true
    },
    "scrolled": true
   },
   "outputs": [
    {
     "data": {
      "text/plain": [
       "'\\nfor id in transactions[\\'txId\\']:\\n    n_outputs = len(getTransactionOutputs(outputs, id))\\n\\n    if n_outputs != 1:\\n        print(f\\'txId:{id:}, num_outputs: {n_outputs}\\')\\n\\nprint(\"end\")'"
      ]
     },
     "execution_count": 31,
     "metadata": {},
     "output_type": "execute_result"
    }
   ],
   "source": [
    "#get all transactions with more then 1 output\n",
    "'''\n",
    "for id in transactions['txId']:\n",
    "    n_outputs = len(getTransactionOutputs(outputs, id))\n",
    "\n",
    "    if n_outputs != 1:\n",
    "        print(f'txId:{id:}, num_outputs: {n_outputs}')\n",
    "\n",
    "print(\"end\")'''"
   ]
  },
  {
   "cell_type": "code",
   "execution_count": 133,
   "id": "1a62b64e-a21a-49f9-b4cf-3d115e951b10",
   "metadata": {},
   "outputs": [
    {
     "name": "stdout",
     "output_type": "stream",
     "text": [
      "           timestamp  blockId      txId  isCoinbase    fee\n",
      "10572428  1356997591   214561  10572426           0      0\n",
      "10572429  1356997591   214561  10572427           0      0\n",
      "10572430  1356997591   214561  10572428           0      0\n",
      "10572431  1356997591   214561  10572429           0  20000\n",
      "10572432  1356997591   214561  10572430           0      0\n",
      "...              ...      ...       ...         ...    ...\n",
      "10572564  1356997591   214561  10572562           0      0\n",
      "10572565  1356997591   214561  10572563           0      0\n",
      "10572566  1356997591   214561  10572564           0      0\n",
      "10572567  1356997591   214561  10572565           0      0\n",
      "10572568  1356997591   214561  10572566           0      0\n",
      "\n",
      "[141 rows x 5 columns]\n",
      "congestion @1356997591: 11358\n",
      "avg fee @1356997591: 39178.82269503546\n"
     ]
    }
   ],
   "source": [
    "# test getTransactionsAtTimestamp; getCongestionAtTs\n",
    "timestamp = 1356997591\n",
    "transactions_ncb = transactions[transactions['isCoinbase'] == 0]\n",
    "\n",
    "tx_ts = getTransactionsAtTimestamp(transactions_ncb, timestamp)\n",
    "\n",
    "print(tx_ts)\n",
    "\n",
    "congestion = getCongestionAtTs(timestamp, transactions_ncb, inputs, outputs)\n",
    "print(f'congestion @{timestamp}: {congestion}')\n",
    "\n",
    "fee = getAverageFeeAtTimestamp(transactions_ncb, timestamp)\n",
    "print(f'avg fee @{timestamp}: {fee}')"
   ]
  },
  {
   "cell_type": "code",
   "execution_count": 154,
   "id": "2861b4fe-9d7a-4941-b8bb-71c0c7513832",
   "metadata": {},
   "outputs": [
    {
     "name": "stdout",
     "output_type": "stream",
     "text": [
      "[1338813701, 1346324962, 1355265088, 1340386327, 1341773667]\n",
      "avg fee @1338813701: 54471.60883280757\n",
      "avg fee @1346324962: 228361.9297385621\n",
      "avg fee @1355265088: 105815.60283687944\n",
      "avg fee @1340386327: 28064.44230769231\n",
      "avg fee @1341773667: 47887.95977011494\n"
     ]
    }
   ],
   "source": [
    "# fee test\n",
    "from datetime import datetime\n",
    "\n",
    "ts_start = 1231006505\n",
    "ts_end = 1356997957\n",
    "\n",
    "random_ts = transactions.sample(n=5)['timestamp'].to_list()\n",
    "print(random_ts)\n",
    "#ts = random.randint(ts_start, ts_end)\n",
    "\n",
    "for ts in random_ts:\n",
    "    fee = getAverageFeeAtTimestamp(transactions, ts)\n",
    "    print(f'avg fee @{ts}: {fee}')\n"
   ]
  },
  {
   "cell_type": "code",
   "execution_count": 158,
   "id": "95b10588-83ce-4098-84bc-131489a17d06",
   "metadata": {
    "scrolled": true
   },
   "outputs": [
    {
     "ename": "KeyboardInterrupt",
     "evalue": "",
     "output_type": "error",
     "traceback": [
      "\u001b[0;31m---------------------------------------------------------------------------\u001b[0m",
      "\u001b[0;31mKeyboardInterrupt\u001b[0m                         Traceback (most recent call last)",
      "Cell \u001b[0;32mIn[158], line 1\u001b[0m\n\u001b[0;32m----> 1\u001b[0m congDf: pd\u001b[38;5;241m.\u001b[39mDataFrame \u001b[38;5;241m=\u001b[39m \u001b[43mgetTsCongestionDf\u001b[49m\u001b[43m(\u001b[49m\u001b[43mtransactions\u001b[49m\u001b[43m,\u001b[49m\u001b[43m \u001b[49m\u001b[43minputs\u001b[49m\u001b[43m,\u001b[49m\u001b[43m \u001b[49m\u001b[43moutputs\u001b[49m\u001b[43m)\u001b[49m\n\u001b[1;32m      3\u001b[0m \u001b[38;5;28mprint\u001b[39m(congDf\u001b[38;5;241m.\u001b[39minfo())\n\u001b[1;32m      5\u001b[0m \u001b[38;5;124;03m'''print(congDf.head())\u001b[39;00m\n\u001b[1;32m      6\u001b[0m \u001b[38;5;124;03mprint(congDf.tail())'''\u001b[39;00m\n",
      "Cell \u001b[0;32mIn[157], line 47\u001b[0m, in \u001b[0;36mgetTsCongestionDf\u001b[0;34m(transactionsDf, inputsDf, outputsDf)\u001b[0m\n\u001b[1;32m     44\u001b[0m transactionsDf \u001b[38;5;241m=\u001b[39m transactionsDf[not_coinbase]\n\u001b[1;32m     46\u001b[0m timestamps \u001b[38;5;241m=\u001b[39m transactionsDf[\u001b[38;5;124m'\u001b[39m\u001b[38;5;124mtimestamp\u001b[39m\u001b[38;5;124m'\u001b[39m][\u001b[38;5;241m0\u001b[39m:\u001b[38;5;241m30000\u001b[39m]\n\u001b[0;32m---> 47\u001b[0m congs \u001b[38;5;241m=\u001b[39m \u001b[43mtimestamps\u001b[49m\u001b[38;5;241;43m.\u001b[39;49m\u001b[43mapply\u001b[49m\u001b[43m(\u001b[49m\u001b[43mgetCongestionAtTs\u001b[49m\u001b[43m,\u001b[49m\u001b[43m \u001b[49m\u001b[43margs\u001b[49m\u001b[38;5;241;43m=\u001b[39;49m\u001b[43m(\u001b[49m\u001b[43mtransactionsDf\u001b[49m\u001b[43m,\u001b[49m\u001b[43m \u001b[49m\u001b[43minputsDf\u001b[49m\u001b[43m,\u001b[49m\u001b[43m \u001b[49m\u001b[43moutputsDf\u001b[49m\u001b[43m)\u001b[49m\u001b[43m)\u001b[49m\n\u001b[1;32m     48\u001b[0m fees \u001b[38;5;241m=\u001b[39m timestamps\u001b[38;5;241m.\u001b[39mapply(\u001b[38;5;28;01mlambda\u001b[39;00m ts: getAverageFeeAtTimestamp(transactionsDf, ts))\n\u001b[1;32m     50\u001b[0m \u001b[38;5;28;01mreturn\u001b[39;00m pd\u001b[38;5;241m.\u001b[39mDataFrame({\u001b[38;5;124m'\u001b[39m\u001b[38;5;124mTimestamp\u001b[39m\u001b[38;5;124m'\u001b[39m: timestamps, \u001b[38;5;124m'\u001b[39m\u001b[38;5;124mCongestion\u001b[39m\u001b[38;5;124m'\u001b[39m: congs, \u001b[38;5;124m'\u001b[39m\u001b[38;5;124mFee\u001b[39m\u001b[38;5;124m'\u001b[39m: fee})\n",
      "File \u001b[0;32m~/.local/lib/python3.10/site-packages/pandas/core/series.py:4771\u001b[0m, in \u001b[0;36mSeries.apply\u001b[0;34m(self, func, convert_dtype, args, **kwargs)\u001b[0m\n\u001b[1;32m   4661\u001b[0m \u001b[38;5;28;01mdef\u001b[39;00m \u001b[38;5;21mapply\u001b[39m(\n\u001b[1;32m   4662\u001b[0m     \u001b[38;5;28mself\u001b[39m,\n\u001b[1;32m   4663\u001b[0m     func: AggFuncType,\n\u001b[0;32m   (...)\u001b[0m\n\u001b[1;32m   4666\u001b[0m     \u001b[38;5;241m*\u001b[39m\u001b[38;5;241m*\u001b[39mkwargs,\n\u001b[1;32m   4667\u001b[0m ) \u001b[38;5;241m-\u001b[39m\u001b[38;5;241m>\u001b[39m DataFrame \u001b[38;5;241m|\u001b[39m Series:\n\u001b[1;32m   4668\u001b[0m     \u001b[38;5;124;03m\"\"\"\u001b[39;00m\n\u001b[1;32m   4669\u001b[0m \u001b[38;5;124;03m    Invoke function on values of Series.\u001b[39;00m\n\u001b[1;32m   4670\u001b[0m \n\u001b[0;32m   (...)\u001b[0m\n\u001b[1;32m   4769\u001b[0m \u001b[38;5;124;03m    dtype: float64\u001b[39;00m\n\u001b[1;32m   4770\u001b[0m \u001b[38;5;124;03m    \"\"\"\u001b[39;00m\n\u001b[0;32m-> 4771\u001b[0m     \u001b[38;5;28;01mreturn\u001b[39;00m \u001b[43mSeriesApply\u001b[49m\u001b[43m(\u001b[49m\u001b[38;5;28;43mself\u001b[39;49m\u001b[43m,\u001b[49m\u001b[43m \u001b[49m\u001b[43mfunc\u001b[49m\u001b[43m,\u001b[49m\u001b[43m \u001b[49m\u001b[43mconvert_dtype\u001b[49m\u001b[43m,\u001b[49m\u001b[43m \u001b[49m\u001b[43margs\u001b[49m\u001b[43m,\u001b[49m\u001b[43m \u001b[49m\u001b[43mkwargs\u001b[49m\u001b[43m)\u001b[49m\u001b[38;5;241;43m.\u001b[39;49m\u001b[43mapply\u001b[49m\u001b[43m(\u001b[49m\u001b[43m)\u001b[49m\n",
      "File \u001b[0;32m~/.local/lib/python3.10/site-packages/pandas/core/apply.py:1123\u001b[0m, in \u001b[0;36mSeriesApply.apply\u001b[0;34m(self)\u001b[0m\n\u001b[1;32m   1120\u001b[0m     \u001b[38;5;28;01mreturn\u001b[39;00m \u001b[38;5;28mself\u001b[39m\u001b[38;5;241m.\u001b[39mapply_str()\n\u001b[1;32m   1122\u001b[0m \u001b[38;5;66;03m# self.f is Callable\u001b[39;00m\n\u001b[0;32m-> 1123\u001b[0m \u001b[38;5;28;01mreturn\u001b[39;00m \u001b[38;5;28;43mself\u001b[39;49m\u001b[38;5;241;43m.\u001b[39;49m\u001b[43mapply_standard\u001b[49m\u001b[43m(\u001b[49m\u001b[43m)\u001b[49m\n",
      "File \u001b[0;32m~/.local/lib/python3.10/site-packages/pandas/core/apply.py:1174\u001b[0m, in \u001b[0;36mSeriesApply.apply_standard\u001b[0;34m(self)\u001b[0m\n\u001b[1;32m   1172\u001b[0m     \u001b[38;5;28;01melse\u001b[39;00m:\n\u001b[1;32m   1173\u001b[0m         values \u001b[38;5;241m=\u001b[39m obj\u001b[38;5;241m.\u001b[39mastype(\u001b[38;5;28mobject\u001b[39m)\u001b[38;5;241m.\u001b[39m_values\n\u001b[0;32m-> 1174\u001b[0m         mapped \u001b[38;5;241m=\u001b[39m \u001b[43mlib\u001b[49m\u001b[38;5;241;43m.\u001b[39;49m\u001b[43mmap_infer\u001b[49m\u001b[43m(\u001b[49m\n\u001b[1;32m   1175\u001b[0m \u001b[43m            \u001b[49m\u001b[43mvalues\u001b[49m\u001b[43m,\u001b[49m\n\u001b[1;32m   1176\u001b[0m \u001b[43m            \u001b[49m\u001b[43mf\u001b[49m\u001b[43m,\u001b[49m\n\u001b[1;32m   1177\u001b[0m \u001b[43m            \u001b[49m\u001b[43mconvert\u001b[49m\u001b[38;5;241;43m=\u001b[39;49m\u001b[38;5;28;43mself\u001b[39;49m\u001b[38;5;241;43m.\u001b[39;49m\u001b[43mconvert_dtype\u001b[49m\u001b[43m,\u001b[49m\n\u001b[1;32m   1178\u001b[0m \u001b[43m        \u001b[49m\u001b[43m)\u001b[49m\n\u001b[1;32m   1180\u001b[0m \u001b[38;5;28;01mif\u001b[39;00m \u001b[38;5;28mlen\u001b[39m(mapped) \u001b[38;5;129;01mand\u001b[39;00m \u001b[38;5;28misinstance\u001b[39m(mapped[\u001b[38;5;241m0\u001b[39m], ABCSeries):\n\u001b[1;32m   1181\u001b[0m     \u001b[38;5;66;03m# GH#43986 Need to do list(mapped) in order to get treated as nested\u001b[39;00m\n\u001b[1;32m   1182\u001b[0m     \u001b[38;5;66;03m#  See also GH#25959 regarding EA support\u001b[39;00m\n\u001b[1;32m   1183\u001b[0m     \u001b[38;5;28;01mreturn\u001b[39;00m obj\u001b[38;5;241m.\u001b[39m_constructor_expanddim(\u001b[38;5;28mlist\u001b[39m(mapped), index\u001b[38;5;241m=\u001b[39mobj\u001b[38;5;241m.\u001b[39mindex)\n",
      "File \u001b[0;32m~/.local/lib/python3.10/site-packages/pandas/_libs/lib.pyx:2924\u001b[0m, in \u001b[0;36mpandas._libs.lib.map_infer\u001b[0;34m()\u001b[0m\n",
      "File \u001b[0;32m~/.local/lib/python3.10/site-packages/pandas/core/apply.py:142\u001b[0m, in \u001b[0;36mApply.__init__.<locals>.f\u001b[0;34m(x)\u001b[0m\n\u001b[1;32m    141\u001b[0m \u001b[38;5;28;01mdef\u001b[39;00m \u001b[38;5;21mf\u001b[39m(x):\n\u001b[0;32m--> 142\u001b[0m     \u001b[38;5;28;01mreturn\u001b[39;00m \u001b[43mfunc\u001b[49m\u001b[43m(\u001b[49m\u001b[43mx\u001b[49m\u001b[43m,\u001b[49m\u001b[43m \u001b[49m\u001b[38;5;241;43m*\u001b[39;49m\u001b[43margs\u001b[49m\u001b[43m,\u001b[49m\u001b[43m \u001b[49m\u001b[38;5;241;43m*\u001b[39;49m\u001b[38;5;241;43m*\u001b[39;49m\u001b[43mkwargs\u001b[49m\u001b[43m)\u001b[49m\n",
      "Cell \u001b[0;32mIn[157], line 31\u001b[0m, in \u001b[0;36mgetCongestionAtTs\u001b[0;34m(timestamp, transactionsDf, inputsDf, outputsDf)\u001b[0m\n\u001b[1;32m     28\u001b[0m \u001b[38;5;28;01mdef\u001b[39;00m \u001b[38;5;21mgetCongestionAtTs\u001b[39m(timestamp: \u001b[38;5;28mint\u001b[39m, transactionsDf: pd\u001b[38;5;241m.\u001b[39mDataFrame, inputsDf: pd\u001b[38;5;241m.\u001b[39mDataFrame, outputsDf: pd\u001b[38;5;241m.\u001b[39mDataFrame):\n\u001b[1;32m     29\u001b[0m     transactions_at_ts \u001b[38;5;241m=\u001b[39m getTransactionsAtTimestamp(transactionsDf, timestamp)\n\u001b[0;32m---> 31\u001b[0m     tx_sizes \u001b[38;5;241m=\u001b[39m [getTransactionSize(transactionsDf, inputsDf, outputsDf, txId) \u001b[38;5;28;01mfor\u001b[39;00m txId \u001b[38;5;129;01min\u001b[39;00m transactions_at_ts[\u001b[38;5;124m'\u001b[39m\u001b[38;5;124mtxId\u001b[39m\u001b[38;5;124m'\u001b[39m]]\n\u001b[1;32m     33\u001b[0m     \u001b[38;5;28;01mreturn\u001b[39;00m \u001b[38;5;28msum\u001b[39m(tx_sizes)\n",
      "Cell \u001b[0;32mIn[157], line 31\u001b[0m, in \u001b[0;36m<listcomp>\u001b[0;34m(.0)\u001b[0m\n\u001b[1;32m     28\u001b[0m \u001b[38;5;28;01mdef\u001b[39;00m \u001b[38;5;21mgetCongestionAtTs\u001b[39m(timestamp: \u001b[38;5;28mint\u001b[39m, transactionsDf: pd\u001b[38;5;241m.\u001b[39mDataFrame, inputsDf: pd\u001b[38;5;241m.\u001b[39mDataFrame, outputsDf: pd\u001b[38;5;241m.\u001b[39mDataFrame):\n\u001b[1;32m     29\u001b[0m     transactions_at_ts \u001b[38;5;241m=\u001b[39m getTransactionsAtTimestamp(transactionsDf, timestamp)\n\u001b[0;32m---> 31\u001b[0m     tx_sizes \u001b[38;5;241m=\u001b[39m [\u001b[43mgetTransactionSize\u001b[49m\u001b[43m(\u001b[49m\u001b[43mtransactionsDf\u001b[49m\u001b[43m,\u001b[49m\u001b[43m \u001b[49m\u001b[43minputsDf\u001b[49m\u001b[43m,\u001b[49m\u001b[43m \u001b[49m\u001b[43moutputsDf\u001b[49m\u001b[43m,\u001b[49m\u001b[43m \u001b[49m\u001b[43mtxId\u001b[49m\u001b[43m)\u001b[49m \u001b[38;5;28;01mfor\u001b[39;00m txId \u001b[38;5;129;01min\u001b[39;00m transactions_at_ts[\u001b[38;5;124m'\u001b[39m\u001b[38;5;124mtxId\u001b[39m\u001b[38;5;124m'\u001b[39m]]\n\u001b[1;32m     33\u001b[0m     \u001b[38;5;28;01mreturn\u001b[39;00m \u001b[38;5;28msum\u001b[39m(tx_sizes)\n",
      "Cell \u001b[0;32mIn[157], line 15\u001b[0m, in \u001b[0;36mgetTransactionSize\u001b[0;34m(transactionsDf, inputsDf, outputsDf, txId)\u001b[0m\n\u001b[1;32m     12\u001b[0m INPUT_SIZE \u001b[38;5;241m=\u001b[39m \u001b[38;5;241m40\u001b[39m\n\u001b[1;32m     13\u001b[0m OUTPUT_SIZE \u001b[38;5;241m=\u001b[39m \u001b[38;5;241m9\u001b[39m\n\u001b[0;32m---> 15\u001b[0m num_inputs \u001b[38;5;241m=\u001b[39m \u001b[38;5;28mlen\u001b[39m(\u001b[43mgetTransactionInputs\u001b[49m\u001b[43m(\u001b[49m\u001b[43minputsDf\u001b[49m\u001b[43m,\u001b[49m\u001b[43m \u001b[49m\u001b[43mtxId\u001b[49m\u001b[43m)\u001b[49m)\n\u001b[1;32m     16\u001b[0m num_outputs \u001b[38;5;241m=\u001b[39m \u001b[38;5;28mlen\u001b[39m(getTransactionOutputs(outputsDf, txId))\n\u001b[1;32m     17\u001b[0m script_size \u001b[38;5;241m=\u001b[39m \u001b[38;5;241m0\u001b[39m\n",
      "Cell \u001b[0;32mIn[157], line 2\u001b[0m, in \u001b[0;36mgetTransactionInputs\u001b[0;34m(inputsDf, txId)\u001b[0m\n\u001b[1;32m      1\u001b[0m \u001b[38;5;28;01mdef\u001b[39;00m \u001b[38;5;21mgetTransactionInputs\u001b[39m(inputsDf: pd\u001b[38;5;241m.\u001b[39mDataFrame, txId: \u001b[38;5;28mint\u001b[39m) \u001b[38;5;241m-\u001b[39m\u001b[38;5;241m>\u001b[39m pd\u001b[38;5;241m.\u001b[39mDataFrame:\n\u001b[0;32m----> 2\u001b[0m     cond \u001b[38;5;241m=\u001b[39m \u001b[43minputsDf\u001b[49m\u001b[43m[\u001b[49m\u001b[38;5;124;43m'\u001b[39;49m\u001b[38;5;124;43mtxId\u001b[39;49m\u001b[38;5;124;43m'\u001b[39;49m\u001b[43m]\u001b[49m\u001b[43m \u001b[49m\u001b[38;5;241;43m==\u001b[39;49m\u001b[43m \u001b[49m\u001b[43mtxId\u001b[49m\n\u001b[1;32m      3\u001b[0m     \u001b[38;5;28;01mreturn\u001b[39;00m inputsDf[cond]\n",
      "File \u001b[0;32m~/.local/lib/python3.10/site-packages/pandas/core/ops/common.py:72\u001b[0m, in \u001b[0;36m_unpack_zerodim_and_defer.<locals>.new_method\u001b[0;34m(self, other)\u001b[0m\n\u001b[1;32m     68\u001b[0m             \u001b[38;5;28;01mreturn\u001b[39;00m \u001b[38;5;28mNotImplemented\u001b[39m\n\u001b[1;32m     70\u001b[0m other \u001b[38;5;241m=\u001b[39m item_from_zerodim(other)\n\u001b[0;32m---> 72\u001b[0m \u001b[38;5;28;01mreturn\u001b[39;00m \u001b[43mmethod\u001b[49m\u001b[43m(\u001b[49m\u001b[38;5;28;43mself\u001b[39;49m\u001b[43m,\u001b[49m\u001b[43m \u001b[49m\u001b[43mother\u001b[49m\u001b[43m)\u001b[49m\n",
      "File \u001b[0;32m~/.local/lib/python3.10/site-packages/pandas/core/arraylike.py:42\u001b[0m, in \u001b[0;36mOpsMixin.__eq__\u001b[0;34m(self, other)\u001b[0m\n\u001b[1;32m     40\u001b[0m \u001b[38;5;129m@unpack_zerodim_and_defer\u001b[39m(\u001b[38;5;124m\"\u001b[39m\u001b[38;5;124m__eq__\u001b[39m\u001b[38;5;124m\"\u001b[39m)\n\u001b[1;32m     41\u001b[0m \u001b[38;5;28;01mdef\u001b[39;00m \u001b[38;5;21m__eq__\u001b[39m(\u001b[38;5;28mself\u001b[39m, other):\n\u001b[0;32m---> 42\u001b[0m     \u001b[38;5;28;01mreturn\u001b[39;00m \u001b[38;5;28;43mself\u001b[39;49m\u001b[38;5;241;43m.\u001b[39;49m\u001b[43m_cmp_method\u001b[49m\u001b[43m(\u001b[49m\u001b[43mother\u001b[49m\u001b[43m,\u001b[49m\u001b[43m \u001b[49m\u001b[43moperator\u001b[49m\u001b[38;5;241;43m.\u001b[39;49m\u001b[43meq\u001b[49m\u001b[43m)\u001b[49m\n",
      "File \u001b[0;32m~/.local/lib/python3.10/site-packages/pandas/core/series.py:6243\u001b[0m, in \u001b[0;36mSeries._cmp_method\u001b[0;34m(self, other, op)\u001b[0m\n\u001b[1;32m   6240\u001b[0m rvalues \u001b[38;5;241m=\u001b[39m extract_array(other, extract_numpy\u001b[38;5;241m=\u001b[39m\u001b[38;5;28;01mTrue\u001b[39;00m, extract_range\u001b[38;5;241m=\u001b[39m\u001b[38;5;28;01mTrue\u001b[39;00m)\n\u001b[1;32m   6242\u001b[0m \u001b[38;5;28;01mwith\u001b[39;00m np\u001b[38;5;241m.\u001b[39merrstate(\u001b[38;5;28mall\u001b[39m\u001b[38;5;241m=\u001b[39m\u001b[38;5;124m\"\u001b[39m\u001b[38;5;124mignore\u001b[39m\u001b[38;5;124m\"\u001b[39m):\n\u001b[0;32m-> 6243\u001b[0m     res_values \u001b[38;5;241m=\u001b[39m \u001b[43mops\u001b[49m\u001b[38;5;241;43m.\u001b[39;49m\u001b[43mcomparison_op\u001b[49m\u001b[43m(\u001b[49m\u001b[43mlvalues\u001b[49m\u001b[43m,\u001b[49m\u001b[43m \u001b[49m\u001b[43mrvalues\u001b[49m\u001b[43m,\u001b[49m\u001b[43m \u001b[49m\u001b[43mop\u001b[49m\u001b[43m)\u001b[49m\n\u001b[1;32m   6245\u001b[0m \u001b[38;5;28;01mreturn\u001b[39;00m \u001b[38;5;28mself\u001b[39m\u001b[38;5;241m.\u001b[39m_construct_result(res_values, name\u001b[38;5;241m=\u001b[39mres_name)\n",
      "File \u001b[0;32m~/.local/lib/python3.10/site-packages/pandas/core/ops/array_ops.py:290\u001b[0m, in \u001b[0;36mcomparison_op\u001b[0;34m(left, right, op)\u001b[0m\n\u001b[1;32m    287\u001b[0m     res_values \u001b[38;5;241m=\u001b[39m comp_method_OBJECT_ARRAY(op, lvalues, rvalues)\n\u001b[1;32m    289\u001b[0m \u001b[38;5;28;01melse\u001b[39;00m:\n\u001b[0;32m--> 290\u001b[0m     res_values \u001b[38;5;241m=\u001b[39m \u001b[43m_na_arithmetic_op\u001b[49m\u001b[43m(\u001b[49m\u001b[43mlvalues\u001b[49m\u001b[43m,\u001b[49m\u001b[43m \u001b[49m\u001b[43mrvalues\u001b[49m\u001b[43m,\u001b[49m\u001b[43m \u001b[49m\u001b[43mop\u001b[49m\u001b[43m,\u001b[49m\u001b[43m \u001b[49m\u001b[43mis_cmp\u001b[49m\u001b[38;5;241;43m=\u001b[39;49m\u001b[38;5;28;43;01mTrue\u001b[39;49;00m\u001b[43m)\u001b[49m\n\u001b[1;32m    292\u001b[0m \u001b[38;5;28;01mreturn\u001b[39;00m res_values\n",
      "File \u001b[0;32m~/.local/lib/python3.10/site-packages/pandas/core/ops/array_ops.py:165\u001b[0m, in \u001b[0;36m_na_arithmetic_op\u001b[0;34m(left, right, op, is_cmp)\u001b[0m\n\u001b[1;32m    162\u001b[0m     func \u001b[38;5;241m=\u001b[39m partial(expressions\u001b[38;5;241m.\u001b[39mevaluate, op)\n\u001b[1;32m    164\u001b[0m \u001b[38;5;28;01mtry\u001b[39;00m:\n\u001b[0;32m--> 165\u001b[0m     result \u001b[38;5;241m=\u001b[39m \u001b[43mfunc\u001b[49m\u001b[43m(\u001b[49m\u001b[43mleft\u001b[49m\u001b[43m,\u001b[49m\u001b[43m \u001b[49m\u001b[43mright\u001b[49m\u001b[43m)\u001b[49m\n\u001b[1;32m    166\u001b[0m \u001b[38;5;28;01mexcept\u001b[39;00m \u001b[38;5;167;01mTypeError\u001b[39;00m:\n\u001b[1;32m    167\u001b[0m     \u001b[38;5;28;01mif\u001b[39;00m \u001b[38;5;129;01mnot\u001b[39;00m is_cmp \u001b[38;5;129;01mand\u001b[39;00m (is_object_dtype(left\u001b[38;5;241m.\u001b[39mdtype) \u001b[38;5;129;01mor\u001b[39;00m is_object_dtype(right)):\n\u001b[1;32m    168\u001b[0m         \u001b[38;5;66;03m# For object dtype, fallback to a masked operation (only operating\u001b[39;00m\n\u001b[1;32m    169\u001b[0m         \u001b[38;5;66;03m#  on the non-missing values)\u001b[39;00m\n\u001b[1;32m    170\u001b[0m         \u001b[38;5;66;03m# Don't do this for comparisons, as that will handle complex numbers\u001b[39;00m\n\u001b[1;32m    171\u001b[0m         \u001b[38;5;66;03m#  incorrectly, see GH#32047\u001b[39;00m\n",
      "File \u001b[0;32m~/.local/lib/python3.10/site-packages/pandas/core/computation/expressions.py:241\u001b[0m, in \u001b[0;36mevaluate\u001b[0;34m(op, a, b, use_numexpr)\u001b[0m\n\u001b[1;32m    238\u001b[0m \u001b[38;5;28;01mif\u001b[39;00m op_str \u001b[38;5;129;01mis\u001b[39;00m \u001b[38;5;129;01mnot\u001b[39;00m \u001b[38;5;28;01mNone\u001b[39;00m:\n\u001b[1;32m    239\u001b[0m     \u001b[38;5;28;01mif\u001b[39;00m use_numexpr:\n\u001b[1;32m    240\u001b[0m         \u001b[38;5;66;03m# error: \"None\" not callable\u001b[39;00m\n\u001b[0;32m--> 241\u001b[0m         \u001b[38;5;28;01mreturn\u001b[39;00m \u001b[43m_evaluate\u001b[49m\u001b[43m(\u001b[49m\u001b[43mop\u001b[49m\u001b[43m,\u001b[49m\u001b[43m \u001b[49m\u001b[43mop_str\u001b[49m\u001b[43m,\u001b[49m\u001b[43m \u001b[49m\u001b[43ma\u001b[49m\u001b[43m,\u001b[49m\u001b[43m \u001b[49m\u001b[43mb\u001b[49m\u001b[43m)\u001b[49m  \u001b[38;5;66;03m# type: ignore[misc]\u001b[39;00m\n\u001b[1;32m    242\u001b[0m \u001b[38;5;28;01mreturn\u001b[39;00m _evaluate_standard(op, op_str, a, b)\n",
      "File \u001b[0;32m~/.local/lib/python3.10/site-packages/pandas/core/computation/expressions.py:70\u001b[0m, in \u001b[0;36m_evaluate_standard\u001b[0;34m(op, op_str, a, b)\u001b[0m\n\u001b[1;32m     68\u001b[0m \u001b[38;5;28;01mif\u001b[39;00m _TEST_MODE:\n\u001b[1;32m     69\u001b[0m     _store_test_result(\u001b[38;5;28;01mFalse\u001b[39;00m)\n\u001b[0;32m---> 70\u001b[0m \u001b[38;5;28;01mreturn\u001b[39;00m \u001b[43mop\u001b[49m\u001b[43m(\u001b[49m\u001b[43ma\u001b[49m\u001b[43m,\u001b[49m\u001b[43m \u001b[49m\u001b[43mb\u001b[49m\u001b[43m)\u001b[49m\n",
      "\u001b[0;31mKeyboardInterrupt\u001b[0m: "
     ]
    }
   ],
   "source": [
    "congDf: pd.DataFrame = getTsCongestionDf(transactions, inputs, outputs)\n",
    "\n",
    "print(congDf.info())\n",
    "\n",
    "'''print(congDf.head())\n",
    "print(congDf.tail())'''\n",
    "\n",
    "#congDf['Fee'].plot(kind='hist')\n"
   ]
  },
  {
   "cell_type": "code",
   "execution_count": null,
   "id": "0a9d7011-cfb2-4839-860a-57562cfd53d1",
   "metadata": {
    "scrolled": true
   },
   "outputs": [],
   "source": [
    "# plots\n",
    "fig, axs = plt.subplots(1, 3, figsize=(20, 16))  # 1 rows, 3 column\n",
    "\n",
    "congDf.plot(kind='line', x='Congestion', y='Fee', title='Andamento fee rispetto congestione', ax=axs[0])\n",
    "congDf.plot(kind='line', x='Timestamp', y='Congestion', title='Andamento congestione nel tempo', ax=axs[1])\n",
    "congDf.plot(kind='line', x='Timestamp', y='Fee', title='Andamento fee nel tempo', ax=axs[2])\n"
   ]
  },
  {
   "cell_type": "code",
   "execution_count": null,
   "id": "27a2b995-3c49-4ce6-879b-48451c5e9f73",
   "metadata": {},
   "outputs": [],
   "source": [
    "\n"
   ]
  }
 ],
 "metadata": {
  "kernelspec": {
   "display_name": "Python 3 (ipykernel)",
   "language": "python",
   "name": "python3"
  },
  "language_info": {
   "codemirror_mode": {
    "name": "ipython",
    "version": 3
   },
   "file_extension": ".py",
   "mimetype": "text/x-python",
   "name": "python",
   "nbconvert_exporter": "python",
   "pygments_lexer": "ipython3",
   "version": "3.10.12"
  }
 },
 "nbformat": 4,
 "nbformat_minor": 5
}
