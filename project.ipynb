{
 "cells": [
  {
   "cell_type": "code",
   "execution_count": 1,
   "id": "3a239d86-b030-4ae7-a3e5-bd405f6fb21c",
   "metadata": {},
   "outputs": [],
   "source": [
    "import pandas as pd\n",
    "import numpy as np\n",
    "import matplotlib.pyplot as plt\n",
    "\n",
    "base: str = \"./datasets/\""
   ]
  },
  {
   "cell_type": "markdown",
   "id": "84c60249-5b2a-4c75-a1c8-92fca38d6c20",
   "metadata": {},
   "source": [
    "# Load Transactions dataset"
   ]
  },
  {
   "cell_type": "code",
   "execution_count": 2,
   "id": "0607d1ef-b88f-418c-8261-502cc048f8e2",
   "metadata": {},
   "outputs": [
    {
     "data": {
      "text/plain": [
       "'\\nIndex              128           128\\ntimestamp     84582632      42291316\\nblockId       42291316      42291316\\ntxId          42291316      42291316\\nisCoinbase    84582632      10572829\\nfee           84582632      84582632\\n'"
      ]
     },
     "execution_count": 2,
     "metadata": {},
     "output_type": "execute_result"
    }
   ],
   "source": [
    "transactions = pd.read_csv(\n",
    "    base + \"transactions.csv\",\n",
    "    names=['timestamp', 'blockId', 'txId', 'isCoinbase', 'fee'],\n",
    "    dtype={'timestamp': np.uint32, 'blockId': np.uint32, 'txId': np.uint32, 'isCoinbase': np.uint8},\n",
    "    parse_dates=True\n",
    ")\n",
    "\n",
    "#transactions[[\"timestamp\", \"blockId\", \"txId\", \"isCoinbase\", \"fee\"]] = transactions[[\"timestamp\", \"blockId\", \"txId\", \"isCoinbase\", \"fee\"]].apply(pd.to_numeric, downcast=\"unsigned\")\n",
    "\n",
    "\n",
    "#print(transactions.info())\n",
    "#print(pd.concat([transactions.head(), transactions.tail()]))\n",
    "#print(transactions.head())\n",
    "#print(transactions.tail())\n",
    "\n",
    "'''\n",
    "max vals\n",
    "timestamp: 1356997957 -> int64\n",
    "blockId: 214562 -> int32\n",
    "txId: 10572826 -> int32\n",
    "isCoinbase -> np.bool_\n",
    "fee: 17179869184 -> int64\n",
    "'''\n",
    "\n",
    "'''print(transactions.info())\n",
    "print(transactions.memory_usage(deep=True))\n",
    "print(transactions.nlargest(5, 'txId'))\n",
    "'''\n",
    "'''\n",
    "Index              128           128\n",
    "timestamp     84582632      42291316\n",
    "blockId       42291316      42291316\n",
    "txId          42291316      42291316\n",
    "isCoinbase    84582632      10572829\n",
    "fee           84582632      84582632\n",
    "'''"
   ]
  },
  {
   "cell_type": "markdown",
   "id": "0b5f9846-5e8e-43fa-82ba-a50ec7f601eb",
   "metadata": {},
   "source": [
    "# Load Inputs dataset"
   ]
  },
  {
   "cell_type": "code",
   "execution_count": 3,
   "id": "ea0539cd-42a8-428f-8573-06de9d999c86",
   "metadata": {},
   "outputs": [],
   "source": [
    "inputs = pd.read_csv(\n",
    "    base + \"inputs.csv\",\n",
    "    names=['txId', 'prevTxId', 'prevTxPos'],\n",
    "    dtype={'txId': np.uint32, 'prevTxId': np.uint32, 'prevTxPos': np.uint16},\n",
    ")"
   ]
  },
  {
   "cell_type": "markdown",
   "id": "3030dc47-57ba-415f-a28f-183541bbfb8f",
   "metadata": {},
   "source": [
    "# Load Outputs dataset "
   ]
  },
  {
   "cell_type": "code",
   "execution_count": 4,
   "id": "ef4a30e0-b34c-4fd0-a38d-8ac5e06f5d1d",
   "metadata": {},
   "outputs": [
    {
     "name": "stdout",
     "output_type": "stream",
     "text": [
      "<class 'pandas.core.frame.DataFrame'>\n",
      "RangeIndex: 24613799 entries, 0 to 24613798\n",
      "Data columns (total 5 columns):\n",
      " #   Column      Dtype \n",
      "---  ------      ----- \n",
      " 0   txId        uint32\n",
      " 1   txPos       uint16\n",
      " 2   addressId   uint32\n",
      " 3   amount      uint64\n",
      " 4   scriptType  uint8 \n",
      "dtypes: uint16(1), uint32(2), uint64(1), uint8(1)\n",
      "memory usage: 446.0 MB\n",
      "None\n"
     ]
    }
   ],
   "source": [
    "outputs = pd.read_csv(\n",
    "    base + \"outputs.csv\",\n",
    "    names=['txId', 'txPos', 'addressId', 'amount', 'scriptType'],\n",
    "    dtype={'txId': np.uint32, 'txPos': np.uint16, 'addressId': np.uint32, 'amount': np.uint64, 'scriptType': np.uint8}\n",
    ")\n",
    "\n",
    "print(outputs.info())"
   ]
  },
  {
   "cell_type": "markdown",
   "id": "8d0f9e24-6f71-4105-8118-090f8d12f205",
   "metadata": {},
   "source": [
    "# Load Mappings dataset"
   ]
  },
  {
   "cell_type": "code",
   "execution_count": 5,
   "id": "fb76b481-0586-4ea1-8390-a074ede057d1",
   "metadata": {},
   "outputs": [],
   "source": [
    "mappings = pd.read_csv(\n",
    "    base + \"mappings.csv\",\n",
    "    names=['addressId', 'hash'],\n",
    "    dtype={'addressId': str, 'hash': np.int32}\n",
    ")"
   ]
  },
  {
   "cell_type": "markdown",
   "id": "befce5ba-46e6-4b8e-963a-4d0ff011bb60",
   "metadata": {},
   "source": [
    "# Script table"
   ]
  },
  {
   "cell_type": "code",
   "execution_count": null,
   "id": "09b8455f-2399-4c42-9963-cf647808a81a",
   "metadata": {},
   "outputs": [],
   "source": [
    "data = {'scriptCode': [0,1,2,3,4,5,6,7], \n",
    "        'scriptType':[\"Unknown\", \"P2PK\", \"P2KH\", \"P2SH\", \"RETURN\", \"EMPTY\", \"P2WPKH\", \"P2WSH\"],\n",
    "        'scriptSize': [0, 153, 180, 291, 0, 0, 0, 0]\n",
    "       }\n",
    "\n",
    "scripts = pd.DataFrame(\n",
    "    data,\n",
    "    #dtypes={'scriptCode': np.int8, 'scriptType': str, 'scriptSize': np.int8}\n",
    "                  \n",
    ")\n",
    "print(scripts.info())\n",
    "print(scripts)\n"
   ]
  },
  {
   "cell_type": "markdown",
   "id": "a065358c-b720-418c-8a86-ed8fa8073c8b",
   "metadata": {},
   "source": [
    "# Number of transactions"
   ]
  },
  {
   "cell_type": "code",
   "execution_count": null,
   "id": "31511ec3-7371-43b6-8b7a-5d4c3f7e3f30",
   "metadata": {},
   "outputs": [],
   "source": [
    "#Df to have the num of transactions for every timestamp\n",
    "transCount = transactions \\\n",
    "    .groupby('timestamp')['txId'].count() \\\n",
    "    .reset_index() \\\n",
    "    .rename(columns={'txId':'txCount'})\n",
    "print(transCount)\n",
    "\n",
    "transCount.plot.line(title='Numero di transazioni nel tempo', x='timestamp', y='txCount')"
   ]
  },
  {
   "cell_type": "markdown",
   "id": "ea72ad75-d6af-47d1-9b14-c8765d809372",
   "metadata": {},
   "source": [
    "# Utils"
   ]
  },
  {
   "cell_type": "code",
   "execution_count": null,
   "id": "253b63c8-54b0-4f0c-b4a3-99442309f926",
   "metadata": {},
   "outputs": [],
   "source": [
    "def getTransactionInputs(inputsDf: pd.DataFrame, txId: int) -> pd.DataFrame:\n",
    "    ''' Get all inputs of a transaction \n",
    "    \n",
    "    Returns:\n",
    "    DF<txId, prevTxId, prevTxPos>'''\n",
    "\n",
    "    cond = inputsDf['txId'] == txId\n",
    "    return inputsDf[cond]\n",
    "\n",
    "def getTransactionOutputs(outputsDf: pd.DataFrame, txId: int) -> pd.DataFrame:\n",
    "    ''' Get all outputs of a transaction \n",
    "    \n",
    "    Returns:\n",
    "    DF<txId, txPos, addressId, amount, scriptType>'''\n",
    "    \n",
    "    cond = outputsDf['txId'] == txId\n",
    "    return outputsDf[cond]\n",
    "\n",
    "def getTransactionSize(inputsDf: pd.DataFrame, outputsDf: pd.DataFrame, txId: int) -> float:\n",
    "    ''' Ottieni la dimensione di una transazione '''\n",
    "    \n",
    "    INPUT_SIZE = 40\n",
    "    OUTPUT_SIZE = 9\n",
    "\n",
    "    num_inputs = len(getTransactionInputs(inputsDf, txId))\n",
    "    num_outputs = len(getTransactionOutputs(outputsDf, txId))\n",
    "    script_size = 0\n",
    "\n",
    "    # TODO: num_outputs > 1 ==> script diversi; quale contare?\n",
    "    return INPUT_SIZE * num_inputs + OUTPUT_SIZE * num_outputs + script_size\n",
    "\n",
    "def getTransactionsAtTimestamp(transactionsDf: pd.DataFrame, timestamp: int) -> pd.DataFrame:\n",
    "    \"\"\" Get all transaction at a given timestamp \n",
    "    \n",
    "    Returns:\n",
    "    DF<timestamp, blockId, txId, isCoinbase, fee>\"\"\"\n",
    "\n",
    "    cond = transactionsDf['timestamp'] == timestamp\n",
    "    return transactionsDf[cond]\n",
    "\n",
    "\n",
    "def getCongestionAtTs(timestamp: int, transactionsDf: pd.DataFrame, inputsDf: pd.DataFrame, outputsDf: pd.DataFrame) -> int:\n",
    "    \"\"\" Get the congestion at a given timestamp \"\"\"\n",
    "    \n",
    "    transactions_at_ts = getTransactionsAtTimestamp(transactionsDf, timestamp).drop(columns=[\"blockId\", \"isCoinbase\", \"fee\"])\n",
    "    # transactions_at_ts: <timestamp, txId>\n",
    "\n",
    "    tx_sizes: list[float] = [getTransactionSize(inputsDf, outputsDf, txId) for txId in transactions_at_ts['txId']]\n",
    "    return sum(tx_sizes)\n",
    "\n",
    "\n",
    "def getAverageFeeAtTimestamp(timestamp: int, transactionsDf: pd.DataFrame) -> float:\n",
    "    tx_ts: pd.DataFrame = getTransactionsAtTimestamp(transactionsDf, timestamp)\n",
    "\n",
    "    return tx_ts['fee'].mean()\n",
    "\n",
    "\n",
    "def getTsCongestionDf(transactionsDf: pd.DataFrame, inputsDf: pd.DataFrame, outputsDf: pd.DataFrame) -> pd.DataFrame:\n",
    "    ''' STEPS:\n",
    "    Filter transactionsDf (remove coinbases)\n",
    "    Get timestamps\n",
    "    Get congestion at timestamp\n",
    "    Get fee at timestamp\n",
    "    '''\n",
    "    \n",
    "    not_coinbase = transactionsDf['isCoinbase'] == 0\n",
    "    transactionsDf = transactionsDf[not_coinbase]\n",
    "\n",
    "    n = 572828\n",
    "    \n",
    "    timestamps = transactionsDf['timestamp'][n:n+500]\n",
    "    congs = timestamps.apply(getCongestionAtTs, args=(transactionsDf, inputsDf, outputsDf))\n",
    "    fees = timestamps.apply(getAverageFeeAtTimestamp, args=(transactionsDf))\n",
    "    \n",
    "    return pd.DataFrame({'Timestamp': timestamps, 'Congestion': congs, 'Fee': fees})"
   ]
  },
  {
   "cell_type": "code",
   "execution_count": null,
   "id": "11af5e64-0410-4fae-96de-5a8ca52a7930",
   "metadata": {},
   "outputs": [],
   "source": [
    "# test getTransactionInputs, getTransactionOutputs\n",
    "TX_ID = 10888\n",
    "\n",
    "txInputs = getTransactionInputs(inputs, TX_ID)\n",
    "print(f'#tx_inputs: {len(txInputs)}')\n",
    "print(txInputs)\n",
    "\n",
    "txOutputs = getTransactionOutputs(outputs, TX_ID)\n",
    "print(f'#tx_outputs: {len(txOutputs)}')\n",
    "print(txOutputs)"
   ]
  },
  {
   "cell_type": "code",
   "execution_count": null,
   "id": "572904bb-81f4-4258-a043-fb80d98d0d94",
   "metadata": {
    "scrolled": true
   },
   "outputs": [],
   "source": [
    "#get all transactions with more then 1 output\n",
    "'''\n",
    "for id in transactions['txId']:\n",
    "    n_outputs = len(getTransactionOutputs(outputs, id))\n",
    "\n",
    "    if n_outputs != 1:\n",
    "        print(f'txId:{id:}, num_outputs: {n_outputs}')\n",
    "\n",
    "print(\"end\")'''"
   ]
  },
  {
   "cell_type": "code",
   "execution_count": null,
   "id": "1a62b64e-a21a-49f9-b4cf-3d115e951b10",
   "metadata": {},
   "outputs": [],
   "source": [
    "# test getTransactionsAtTimestamp\n",
    "timestamp = 1356997591\n",
    "transactions_ncb = transactions[transactions['isCoinbase'] == 0]\n",
    "\n",
    "tx_ts = getTransactionsAtTimestamp(transactions_ncb, timestamp)\n",
    "\n",
    "print(tx_ts)"
   ]
  },
  {
   "cell_type": "code",
   "execution_count": null,
   "id": "0c810541-bff2-49d5-9171-b0a1404c256d",
   "metadata": {
    "scrolled": true
   },
   "outputs": [],
   "source": [
    "# test getCongestionAtTs\n",
    "congestion = getCongestionAtTs(timestamp, transactions_ncb, inputs, outputs)\n",
    "print(f'congestion @{timestamp}: {congestion}')\n"
   ]
  },
  {
   "cell_type": "code",
   "execution_count": null,
   "id": "4f2cf70e-db70-4a37-8947-4f8af4428928",
   "metadata": {},
   "outputs": [],
   "source": [
    "# test getAverageFeeAtTimestamp\n",
    "fee = getAverageFeeAtTimestamp(timestamp, transactions_ncb)\n",
    "print(f'avg fee @{timestamp}: {fee}')"
   ]
  },
  {
   "cell_type": "code",
   "execution_count": null,
   "id": "2861b4fe-9d7a-4941-b8bb-71c0c7513832",
   "metadata": {},
   "outputs": [],
   "source": [
    "# fee test\n",
    "from datetime import datetime\n",
    "\n",
    "ts_start = 1231006505\n",
    "ts_end = 1356997957\n",
    "\n",
    "random_ts = transactions.sample(n=5)['timestamp'].to_list()\n",
    "print(random_ts)\n",
    "#ts = random.randint(ts_start, ts_end)\n",
    "\n",
    "for ts in random_ts:\n",
    "    fee = getAverageFeeAtTimestamp(ts, transactions)\n",
    "    print(f'avg fee @{ts}: {fee}')\n"
   ]
  },
  {
   "cell_type": "code",
   "execution_count": null,
   "metadata": {},
   "outputs": [],
   "source": []
  },
  {
   "cell_type": "markdown",
   "metadata": {},
   "source": [
    "# Analisi fee rispetto a congestione"
   ]
  },
  {
   "cell_type": "code",
   "execution_count": null,
   "metadata": {},
   "outputs": [],
   "source": [
    "transactions_ncb = transactions[transactions['isCoinbase'] == 0].drop(columns=['blockId', 'isCoinbase'])\n",
    "\n",
    "# Merge transactions with inputs; then calculate size of inputs\n",
    "merged_tx_inputs = pd.merge(transactions_ncb, inputs.drop(columns=['prevTxId', 'prevTxPos']), on='txId', how='inner')\n",
    "size_inputs = merged_tx_inputs.groupby('txId').size().reset_index(name='num_inputs')\n",
    "\n",
    "# Merge transactions with outputs; then calculate size of outputs\n",
    "merged_tx_outputs = pd.merge(transactions_ncb, outputs.drop(columns=['txPos', 'addressId']), on='txId', how='inner')\n",
    "size_outputs = merged_tx_outputs.groupby('txId').size().reset_index(name='num_outputs')"
   ]
  },
  {
   "cell_type": "code",
   "execution_count": null,
   "metadata": {},
   "outputs": [],
   "source": [
    "# Merge the sizes with transactions\n",
    "merged_transactions = pd.merge(transactions_ncb, size_inputs, on='txId', how='left')\n",
    "merged_transactions = pd.merge(merged_transactions, size_outputs, on='txId', how='left')\n",
    "\n",
    "INPUT_SIZE = 40\n",
    "OUTPUT_SIZE = 9\n",
    "\n",
    "# Calculate size of each transaction\n",
    "merged_transactions['transaction_size'] = merged_transactions['num_inputs'] * INPUT_SIZE + merged_transactions['num_outputs'] * OUTPUT_SIZE\n",
    "merged_transactions = merged_transactions.drop(columns=['num_inputs', 'num_outputs'])\n",
    "\n",
    "print(merged_transactions)"
   ]
  },
  {
   "cell_type": "code",
   "execution_count": null,
   "metadata": {},
   "outputs": [],
   "source": [
    "tt = merged_transactions.groupby('timestamp').agg({'fee': 'mean', 'transaction_size': 'sum'}).reset_index()\n",
    "tt = tt.rename(columns={'fee': 'avgFee', 'transaction_size': 'congestion'})\n",
    "print(tt)"
   ]
  },
  {
   "cell_type": "code",
   "execution_count": null,
   "metadata": {},
   "outputs": [],
   "source": [
    "tt.plot.scatter(x='timestamp', y='avgFee', title='Andamento avgFee nel tempo')\n",
    "tt.plot.line(x='timestamp', y='congestion', title='Andamento congestione nel tempo')\n",
    "plt.show()\n",
    "\n",
    "print(transactions_ncb.nlargest(5, 'fee'))\n",
    "print(tt.nlargest(5, 'avgFee'))"
   ]
  },
  {
   "cell_type": "markdown",
   "metadata": {},
   "source": [
    "Come si nota dai grafici, nonostante nel tempo la congestione della blockchain sia aumentata di qualche ordine di grandezza, lo stesso non si può dire per la fee media. Nonostante alcuni outlier, generalmente è rimasta al di sotto del valore 2500"
   ]
  },
  {
   "cell_type": "markdown",
   "metadata": {},
   "source": [
    "# Analisi script usati in transazioni"
   ]
  },
  {
   "cell_type": "code",
   "execution_count": 5,
   "metadata": {},
   "outputs": [
    {
     "data": {
      "text/plain": [
       "\"ts_cond = (merged_tx_outputs['timestamp'] == 1356996072)\\nscript_cond = merged_tx_outputs['scriptType'] == 2\\nprint(merged_tx_outputs[ts_cond & script_cond])\""
      ]
     },
     "execution_count": 5,
     "metadata": {},
     "output_type": "execute_result"
    }
   ],
   "source": [
    "merged_tx_outputs = pd.merge(transactions, outputs.drop(columns=['txPos', 'addressId', 'amount']), on='txId', how='inner')\n",
    "merged_tx_outputs = merged_tx_outputs.drop(columns=['blockId', 'fee', 'isCoinbase'])\n",
    "\n",
    "\n",
    "'''ts_cond = (merged_tx_outputs['timestamp'] == 1356996072)\n",
    "script_cond = merged_tx_outputs['scriptType'] == 2\n",
    "print(merged_tx_outputs[ts_cond & script_cond])'''\n"
   ]
  },
  {
   "cell_type": "code",
   "execution_count": 20,
   "metadata": {},
   "outputs": [
    {
     "name": "stdout",
     "output_type": "stream",
     "text": [
      "         timestamp  scriptType_0  scriptType_1  scriptType_2  scriptType_3\n",
      "0       1231006505             0             1             0             0\n",
      "1       1231469665             0             1             0             0\n",
      "2       1231469744             0             1             0             0\n",
      "3       1231470173             0             1             0             0\n",
      "4       1231470988             0             1             0             0\n",
      "...            ...           ...           ...           ...           ...\n",
      "214464  1356996072             0             3          1455             0\n",
      "214465  1356996754             0             1           665             0\n",
      "214466  1356997591             0            24           239             0\n",
      "214467  1356997908             0             0             1             0\n",
      "214468  1356997957             0             0           728             0\n",
      "\n",
      "[214469 rows x 5 columns]\n"
     ]
    }
   ],
   "source": [
    "#tt = merged_transactions.groupby('timestamp').agg({'fee': 'mean', 'transaction_size': 'sum'}).reset_index()\n",
    "#scripts_groups = merged_tx_outputs.groupby('timestamp')\n",
    "script_groups = pivot_df = merged_tx_outputs.pivot_table(index='timestamp', columns='scriptType', aggfunc='size', fill_value=0).reset_index()\n",
    "script_groups.columns = ['timestamp', 'scriptType_0', 'scriptType_1', 'scriptType_2', 'scriptType_3']\n",
    "print(script_groups)\n",
    "\n"
   ]
  },
  {
   "cell_type": "code",
   "execution_count": null,
   "metadata": {},
   "outputs": [],
   "source": [
    "script_groups.sample(n=2000, random_state=42).plot.bar(x='timestamp', stacked=True)"
   ]
  },
  {
   "cell_type": "code",
   "execution_count": 9,
   "metadata": {},
   "outputs": [
    {
     "data": {
      "text/plain": [
       "<Axes: xlabel='timestamp'>"
      ]
     },
     "execution_count": 9,
     "metadata": {},
     "output_type": "execute_result"
    },
    {
     "data": {
      "image/png": "[encoded data removed]",
      "text/plain": [
       "<Figure size 640x480 with 1 Axes>"
      ]
     },
     "metadata": {},
     "output_type": "display_data"
    }
   ],
   "source": [
    "script_groups.sample(n=5000, random_state=42).plot.bar(x='timestamp', y='scriptType_2', rot=90)"
   ]
  },
  {
   "cell_type": "markdown",
   "metadata": {},
   "source": [
    "# percentage"
   ]
  },
  {
   "cell_type": "code",
   "execution_count": 23,
   "metadata": {},
   "outputs": [
    {
     "name": "stdout",
     "output_type": "stream",
     "text": [
      "<class 'pandas.core.frame.DataFrame'>\n",
      "RangeIndex: 214469 entries, 0 to 214468\n",
      "Data columns (total 5 columns):\n",
      " #   Column                Non-Null Count   Dtype  \n",
      "---  ------                --------------   -----  \n",
      " 0   timestamp             214469 non-null  uint32 \n",
      " 1   scriptType_1_percent  214469 non-null  float64\n",
      " 2   scriptType_0_percent  214469 non-null  float64\n",
      " 3   scriptType_2_percent  214469 non-null  float64\n",
      " 4   scriptType_3_percent  214469 non-null  float64\n",
      "dtypes: float64(4), uint32(1)\n",
      "memory usage: 7.4 MB\n",
      "None\n"
     ]
    }
   ],
   "source": [
    "sc_pcg = script_groups\n",
    "\n",
    "sc_pcg['total_count'] = sc_pcg[['scriptType_0', 'scriptType_1', 'scriptType_2', 'scriptType_3']].sum(axis=1)\n",
    "\n",
    "# Calculate percentage of each script type\n",
    "sc_pcg['scriptType_0_percent'] = (sc_pcg['scriptType_0'] / sc_pcg['total_count']) #* 100\n",
    "sc_pcg['scriptType_1_percent'] = (sc_pcg['scriptType_1'] / sc_pcg['total_count']) #* 100\n",
    "sc_pcg['scriptType_2_percent'] = (sc_pcg['scriptType_2'] / sc_pcg['total_count']) #* 100\n",
    "sc_pcg['scriptType_3_percent'] = (sc_pcg['scriptType_3'] / sc_pcg['total_count']) #* 100\n",
    "\n",
    "# Drop the total_count column (optional)\n",
    "sc_pcg = sc_pcg.drop(columns=['total_count', 'scriptType_0', 'scriptType_1', 'scriptType_2', 'scriptType_3'])\n",
    "\n",
    "print(sc_pcg.info())\n",
    "\n",
    "#print(sc_pcg)\n",
    "\n",
    "#sc_pcg.sample(n=5000, random_state=42).plot.bar(x='timestamp', y='scriptType_2_percent', rot=90)"
   ]
  },
  {
   "cell_type": "code",
   "execution_count": null,
   "metadata": {},
   "outputs": [],
   "source": []
  }
 ],
 "metadata": {
  "kernelspec": {
   "display_name": "Python 3",
   "language": "python",
   "name": "python3"
  },
  "language_info": {
   "codemirror_mode": {
    "name": "ipython",
    "version": 3
   },
   "file_extension": ".py",
   "mimetype": "text/x-python",
   "name": "python",
   "nbconvert_exporter": "python",
   "pygments_lexer": "ipython3",
   "version": "3.10.12"
  }
 },
 "nbformat": 4,
 "nbformat_minor": 2
}
