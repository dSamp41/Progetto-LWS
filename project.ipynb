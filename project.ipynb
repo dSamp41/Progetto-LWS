{
 "cells": [
  {
   "cell_type": "code",
   "execution_count": 5,
   "id": "3a239d86-b030-4ae7-a3e5-bd405f6fb21c",
   "metadata": {},
   "outputs": [],
   "source": [
    "import pandas as pd\n",
    "import numpy as np\n",
    "import matplotlib.pyplot as plt\n",
    "\n",
    "base: str = \"./datasets/\""
   ]
  },
  {
   "cell_type": "markdown",
   "id": "84c60249-5b2a-4c75-a1c8-92fca38d6c20",
   "metadata": {},
   "source": [
    "# Load Transactions dataset"
   ]
  },
  {
   "cell_type": "code",
   "execution_count": 6,
   "id": "0607d1ef-b88f-418c-8261-502cc048f8e2",
   "metadata": {},
   "outputs": [
    {
     "data": {
      "text/plain": [
       "'\\nmax vals\\ntimestamp: 1356997957 -> int64\\nblockId: 214562 -> int32\\ntxId: 10572826 -> int32\\nisCoinbase -> np.bool_\\nfee: 17179869184 -> int64\\n'"
      ]
     },
     "execution_count": 6,
     "metadata": {},
     "output_type": "execute_result"
    }
   ],
   "source": [
    "transactions = pd.read_csv(\n",
    "    base + \"transactions.csv\",\n",
    "    names=['timestamp', 'blockId', 'txId', 'isCoinbase', 'fee'],\n",
    "    dtype={'blockId': np.int32, 'txId': np.int32, 'isCoinbase': np.int8},\n",
    "    parse_dates=True\n",
    ")\n",
    "\n",
    "#print(transactions.info())\n",
    "#print(pd.concat([transactions.head(), transactions.tail()]))\n",
    "#print(transactions.head())\n",
    "#print(transactions.tail())\n",
    "\n",
    "'''\n",
    "max vals\n",
    "timestamp: 1356997957 -> int64\n",
    "blockId: 214562 -> int32\n",
    "txId: 10572826 -> int32\n",
    "isCoinbase -> np.bool_\n",
    "fee: 17179869184 -> int64\n",
    "'''\n",
    "\n",
    "#print(transactions.nlargest(5, 'fee'))\n"
   ]
  },
  {
   "cell_type": "markdown",
   "id": "0b5f9846-5e8e-43fa-82ba-a50ec7f601eb",
   "metadata": {},
   "source": [
    "# Load Inputs dataset"
   ]
  },
  {
   "cell_type": "code",
   "execution_count": 7,
   "id": "ea0539cd-42a8-428f-8573-06de9d999c86",
   "metadata": {},
   "outputs": [],
   "source": [
    "inputs = pd.read_csv(\n",
    "    base + \"inputs.csv\",\n",
    "    names=['txId', 'prevTxId', 'prevTxPos'],\n",
    "    dtype={'txId': np.int32, 'prevTxId': np.int32, 'prevTxPos': np.int16},\n",
    ")"
   ]
  },
  {
   "cell_type": "markdown",
   "id": "3030dc47-57ba-415f-a28f-183541bbfb8f",
   "metadata": {},
   "source": [
    "# Load Outputs dataset "
   ]
  },
  {
   "cell_type": "code",
   "execution_count": 8,
   "id": "ef4a30e0-b34c-4fd0-a38d-8ac5e06f5d1d",
   "metadata": {},
   "outputs": [],
   "source": [
    "outputs = pd.read_csv(\n",
    "    base + \"outputs.csv\",\n",
    "    names=['txId', 'txPos', 'addressId', 'amount', 'scriptType'],\n",
    "    dtype={'txId': np.int32, 'txPos': np.int16, 'addressId': np.int32, 'amount': np.int64, 'scriptType': 'category'}\n",
    ")\n",
    "\n",
    "#print(outputs.info())\n",
    "#print(outputs)"
   ]
  },
  {
   "cell_type": "markdown",
   "id": "8d0f9e24-6f71-4105-8118-090f8d12f205",
   "metadata": {},
   "source": [
    "# Load Mappings dataset"
   ]
  },
  {
   "cell_type": "code",
   "execution_count": null,
   "id": "fb76b481-0586-4ea1-8390-a074ede057d1",
   "metadata": {},
   "outputs": [],
   "source": [
    "mappings = pd.read_csv(\n",
    "    base + \"mappings.csv\",\n",
    "    names=['addressId', 'hash'],\n",
    "    dtype={'addressId': str, 'hash': np.int32}\n",
    ")"
   ]
  },
  {
   "cell_type": "markdown",
   "id": "befce5ba-46e6-4b8e-963a-4d0ff011bb60",
   "metadata": {},
   "source": [
    "# Script table"
   ]
  },
  {
   "cell_type": "code",
   "execution_count": null,
   "id": "09b8455f-2399-4c42-9963-cf647808a81a",
   "metadata": {},
   "outputs": [],
   "source": [
    "data = {'scriptCode': [0,1,2,3,4,5,6,7], \n",
    "        'scriptType':[\"Unknown\", \"P2PK\", \"P2KH\", \"P2SH\", \"RETURN\", \"EMPTY\", \"P2WPKH\", \"P2WSH\"],\n",
    "        'scriptSize': [0, 153, 180, 291, 0, 0, 0, 0]\n",
    "       }\n",
    "\n",
    "scripts = pd.DataFrame(\n",
    "    data,\n",
    "    #dtypes={'scriptCode': np.int8, 'scriptType': str, 'scriptSize': np.int8}\n",
    "                  \n",
    ")\n",
    "print(scripts.info())\n",
    "print(scripts)\n"
   ]
  },
  {
   "cell_type": "markdown",
   "id": "a065358c-b720-418c-8a86-ed8fa8073c8b",
   "metadata": {},
   "source": [
    "# Size of transactions"
   ]
  },
  {
   "cell_type": "code",
   "execution_count": null,
   "id": "31511ec3-7371-43b6-8b7a-5d4c3f7e3f30",
   "metadata": {},
   "outputs": [],
   "source": [
    "#Df to have the num of transactions for every timestamp\n",
    "transCount = transactions \\\n",
    "    .groupby('timestamp')['txId'].count() \\\n",
    "    .reset_index() \\\n",
    "    .rename(columns={'txId':'txCount'})\n",
    "print(transCount)\n",
    "\n",
    "transCount.plot.line(title='Numero di transazioni nel tempo', x='timestamp', y='txCount')"
   ]
  },
  {
   "cell_type": "markdown",
   "id": "ea72ad75-d6af-47d1-9b14-c8765d809372",
   "metadata": {},
   "source": [
    "# Utils"
   ]
  },
  {
   "cell_type": "code",
   "execution_count": 9,
   "id": "253b63c8-54b0-4f0c-b4a3-99442309f926",
   "metadata": {},
   "outputs": [],
   "source": [
    "def getTransactionInputs(inputsDf: pd.DataFrame, txId: int) -> pd.DataFrame:\n",
    "    ''' Get all inputs of a transaction \n",
    "    \n",
    "    Returns:\n",
    "    DF<txId, prevTxId, prevTxPos>'''\n",
    "\n",
    "    cond = inputsDf['txId'] == txId\n",
    "    return inputsDf[cond]\n",
    "\n",
    "def getTransactionOutputs(outputsDf: pd.DataFrame, txId: int) -> pd.DataFrame:\n",
    "    ''' Get all outputs of a transaction \n",
    "    \n",
    "    Returns:\n",
    "    DF<txId, txPos, addressId, amount, scriptType>'''\n",
    "    \n",
    "    cond = outputsDf['txId'] == txId\n",
    "    return outputsDf[cond]\n",
    "\n",
    "def getTransactionSize(inputsDf: pd.DataFrame, outputsDf: pd.DataFrame, txId: int) -> float:\n",
    "    ''' Ottieni la dimensione di una transazione '''\n",
    "    \n",
    "    INPUT_SIZE = 40\n",
    "    OUTPUT_SIZE = 9\n",
    "\n",
    "    num_inputs = len(getTransactionInputs(inputsDf, txId))\n",
    "    num_outputs = len(getTransactionOutputs(outputsDf, txId))\n",
    "    script_size = 0\n",
    "\n",
    "    # TODO: num_outputs > 1 ==> script diversi; quale contare?\n",
    "    return INPUT_SIZE * num_inputs + OUTPUT_SIZE * num_outputs + script_size\n",
    "\n",
    "def getTransactionsAtTimestamp(transactionsDf: pd.DataFrame, timestamp: int) -> pd.DataFrame:\n",
    "    \"\"\" Get all transaction at a given timestamp \n",
    "    \n",
    "    Returns:\n",
    "    DF<timestamp, blockId, txId, isCoinbase, fee>\"\"\"\n",
    "\n",
    "    cond = transactionsDf['timestamp'] == timestamp\n",
    "    return transactionsDf[cond]\n",
    "\n",
    "\n",
    "def getCongestionAtTs(timestamp: int, transactionsDf: pd.DataFrame, inputsDf: pd.DataFrame, outputsDf: pd.DataFrame) -> int:\n",
    "    \"\"\" Get the congestion at a given timestamp \"\"\"\n",
    "    \n",
    "    transactions_at_ts = getTransactionsAtTimestamp(transactionsDf, timestamp).drop(columns=[\"blockId\", \"isCoinbase\", \"fee\"])\n",
    "    # transactions_at_ts: <timestamp, txId>\n",
    "\n",
    "    tx_sizes: list[float] = [getTransactionSize(inputsDf, outputsDf, txId) for txId in transactions_at_ts['txId']]\n",
    "    return sum(tx_sizes)\n",
    "\n",
    "\n",
    "def getAverageFeeAtTimestamp(timestamp: int, transactionsDf: pd.DataFrame) -> float:\n",
    "    tx_ts: pd.DataFrame = getTransactionsAtTimestamp(transactionsDf, timestamp)\n",
    "\n",
    "    return tx_ts['fee'].mean()\n",
    "\n",
    "\n",
    "def getTsCongestionDf(transactionsDf: pd.DataFrame, inputsDf: pd.DataFrame, outputsDf: pd.DataFrame) -> pd.DataFrame:\n",
    "    ''' STEPS:\n",
    "    Filter transactionsDf (remove coinbases)\n",
    "    Get timestamps\n",
    "    Get congestion at timestamp\n",
    "    Get fee at timestamp\n",
    "    '''\n",
    "    \n",
    "    not_coinbase = transactionsDf['isCoinbase'] == 0\n",
    "    transactionsDf = transactionsDf[not_coinbase]\n",
    "\n",
    "    n = 572828\n",
    "    \n",
    "    timestamps = transactionsDf['timestamp'][n:n+500]\n",
    "    congs = timestamps.apply(getCongestionAtTs, args=(transactionsDf, inputsDf, outputsDf))\n",
    "    fees = timestamps.apply(getAverageFeeAtTimestamp, args=(transactionsDf))\n",
    "    \n",
    "    return pd.DataFrame({'Timestamp': timestamps, 'Congestion': congs, 'Fee': fees})"
   ]
  },
  {
   "cell_type": "code",
   "execution_count": 18,
   "id": "11af5e64-0410-4fae-96de-5a8ca52a7930",
   "metadata": {},
   "outputs": [
    {
     "name": "stdout",
     "output_type": "stream",
     "text": [
      "#tx_inputs: 1\n",
      "      txId  prevTxId  prevTxPos\n",
      "640  10888     10760          0\n",
      "#tx_outputs: 2\n",
      "        txId  txPos  addressId      amount  scriptType\n",
      "10915  10888      0      10849  1000000000           2\n",
      "10916  10888      1      10722  4000000000           1\n"
     ]
    }
   ],
   "source": [
    "# test getTransactionInputs, getTransactionOutputs\n",
    "TX_ID = 10888\n",
    "\n",
    "txInputs = getTransactionInputs(inputs, TX_ID)\n",
    "print(f'#tx_inputs: {len(txInputs)}')\n",
    "print(txInputs)\n",
    "\n",
    "txOutputs = getTransactionOutputs(outputs, TX_ID)\n",
    "print(f'#tx_outputs: {len(txOutputs)}')\n",
    "print(txOutputs)"
   ]
  },
  {
   "cell_type": "code",
   "execution_count": null,
   "id": "572904bb-81f4-4258-a043-fb80d98d0d94",
   "metadata": {
    "scrolled": true
   },
   "outputs": [],
   "source": [
    "#get all transactions with more then 1 output\n",
    "'''\n",
    "for id in transactions['txId']:\n",
    "    n_outputs = len(getTransactionOutputs(outputs, id))\n",
    "\n",
    "    if n_outputs != 1:\n",
    "        print(f'txId:{id:}, num_outputs: {n_outputs}')\n",
    "\n",
    "print(\"end\")'''"
   ]
  },
  {
   "cell_type": "code",
   "execution_count": 11,
   "id": "1a62b64e-a21a-49f9-b4cf-3d115e951b10",
   "metadata": {},
   "outputs": [
    {
     "ename": "NameError",
     "evalue": "name 'getTransactionsAtTimestamp' is not defined",
     "output_type": "error",
     "traceback": [
      "\u001b[0;31m---------------------------------------------------------------------------\u001b[0m",
      "\u001b[0;31mNameError\u001b[0m                                 Traceback (most recent call last)",
      "Cell \u001b[0;32mIn[11], line 5\u001b[0m\n\u001b[1;32m      2\u001b[0m timestamp \u001b[38;5;241m=\u001b[39m \u001b[38;5;241m1356997591\u001b[39m\n\u001b[1;32m      3\u001b[0m transactions_ncb \u001b[38;5;241m=\u001b[39m transactions[transactions[\u001b[38;5;124m'\u001b[39m\u001b[38;5;124misCoinbase\u001b[39m\u001b[38;5;124m'\u001b[39m] \u001b[38;5;241m==\u001b[39m \u001b[38;5;241m0\u001b[39m]\n\u001b[0;32m----> 5\u001b[0m tx_ts \u001b[38;5;241m=\u001b[39m \u001b[43mgetTransactionsAtTimestamp\u001b[49m(transactions_ncb, timestamp)\n\u001b[1;32m      7\u001b[0m \u001b[38;5;28mprint\u001b[39m(tx_ts)\n",
      "\u001b[0;31mNameError\u001b[0m: name 'getTransactionsAtTimestamp' is not defined"
     ]
    }
   ],
   "source": [
    "# test getTransactionsAtTimestamp\n",
    "timestamp = 1356997591\n",
    "transactions_ncb = transactions[transactions['isCoinbase'] == 0]\n",
    "\n",
    "tx_ts = getTransactionsAtTimestamp(transactions_ncb, timestamp)\n",
    "\n",
    "print(tx_ts)"
   ]
  },
  {
   "cell_type": "code",
   "execution_count": 20,
   "id": "0c810541-bff2-49d5-9171-b0a1404c256d",
   "metadata": {
    "scrolled": true
   },
   "outputs": [
    {
     "name": "stdout",
     "output_type": "stream",
     "text": [
      "congestion @1356997591: 11358\n"
     ]
    }
   ],
   "source": [
    "# test getCongestionAtTs\n",
    "congestion = getCongestionAtTs(timestamp, transactions_ncb, inputs, outputs)\n",
    "print(f'congestion @{timestamp}: {congestion}')\n"
   ]
  },
  {
   "cell_type": "code",
   "execution_count": 23,
   "id": "4f2cf70e-db70-4a37-8947-4f8af4428928",
   "metadata": {},
   "outputs": [
    {
     "name": "stdout",
     "output_type": "stream",
     "text": [
      "avg fee @1356997591: 39178.82269503546\n"
     ]
    }
   ],
   "source": [
    "# test getAverageFeeAtTimestamp\n",
    "fee = getAverageFeeAtTimestamp(timestamp, transactions_ncb)\n",
    "print(f'avg fee @{timestamp}: {fee}')"
   ]
  },
  {
   "cell_type": "code",
   "execution_count": 10,
   "id": "2861b4fe-9d7a-4941-b8bb-71c0c7513832",
   "metadata": {},
   "outputs": [
    {
     "name": "stdout",
     "output_type": "stream",
     "text": [
      "[1322809509, 1323167912, 1347854040, 1314461706, 1348265435]\n",
      "avg fee @1322809509: 65728.78651685393\n",
      "avg fee @1323167912: 60224.313725490196\n",
      "avg fee @1347854040: 58870.967741935485\n",
      "avg fee @1314461706: 25036.969325153375\n",
      "avg fee @1348265435: 54290.45735294118\n"
     ]
    }
   ],
   "source": [
    "# fee test\n",
    "from datetime import datetime\n",
    "\n",
    "ts_start = 1231006505\n",
    "ts_end = 1356997957\n",
    "\n",
    "random_ts = transactions.sample(n=5)['timestamp'].to_list()\n",
    "print(random_ts)\n",
    "#ts = random.randint(ts_start, ts_end)\n",
    "\n",
    "for ts in random_ts:\n",
    "    fee = getAverageFeeAtTimestamp(ts, transactions)\n",
    "    print(f'avg fee @{ts}: {fee}')\n"
   ]
  },
  {
   "cell_type": "code",
   "execution_count": 11,
   "metadata": {},
   "outputs": [
    {
     "name": "stdout",
     "output_type": "stream",
     "text": [
      "timestamp\n",
      "1231731025        0.000000\n",
      "1231740133        0.000000\n",
      "1231740736        0.000000\n",
      "1231742062        0.000000\n",
      "1231744600        0.000000\n",
      "                  ...     \n",
      "1356995372     2500.000000\n",
      "1356996072    86570.743405\n",
      "1356996754    83062.015504\n",
      "1356997591    39178.822695\n",
      "1356997957    83861.003861\n",
      "Name: fee, Length: 130620, dtype: float64\n"
     ]
    }
   ],
   "source": [
    "transactions_ncb = transactions[transactions['isCoinbase'] == 0]\n",
    "\n",
    "tt = transactions_ncb.groupby('timestamp')['fee'].mean()\n",
    "\n",
    "print(tt)\n",
    "\n",
    "#tt.plot('line')"
   ]
  },
  {
   "cell_type": "code",
   "execution_count": null,
   "metadata": {},
   "outputs": [],
   "source": []
  },
  {
   "cell_type": "code",
   "execution_count": 13,
   "metadata": {},
   "outputs": [
    {
     "name": "stdout",
     "output_type": "stream",
     "text": [
      "              txId  num_inputs\n",
      "0              171           1\n",
      "1              183           1\n",
      "2              185           1\n",
      "3              187           1\n",
      "4              192           1\n",
      "...            ...         ...\n",
      "10358261  10572822           1\n",
      "10358262  10572823           1\n",
      "10358263  10572824           1\n",
      "10358264  10572825           1\n",
      "10358265  10572826           2\n",
      "\n",
      "[10358266 rows x 2 columns]\n",
      "              txId  num_outputs\n",
      "0                0            1\n",
      "1                1            1\n",
      "2                2            1\n",
      "3                3            1\n",
      "4                4            1\n",
      "...            ...          ...\n",
      "10572822  10572822            2\n",
      "10572823  10572823            2\n",
      "10572824  10572824            2\n",
      "10572825  10572825            2\n",
      "10572826  10572826            3\n",
      "\n",
      "[10572827 rows x 2 columns]\n"
     ]
    }
   ],
   "source": [
    "\n",
    "merged_tx_inputs = pd.merge(transactions_ncb, inputs, on='txId', how='inner')\n",
    "\n",
    "# Merge transactions with outputs\n",
    "merged_tx_outputs = pd.merge(transactions_ncb, outputs, on='txId', how='inner')\n",
    "\n",
    "# Calculate size for inputs and outputs separately\n",
    "size_inputs = merged_tx_inputs.groupby('txId').size().reset_index(name='num_inputs')\n",
    "size_outputs = merged_tx_outputs.groupby('txId').size().reset_index(name='num_outputs')\n",
    "\n",
    "print(size_inputs)\n",
    "print(size_outputs)"
   ]
  },
  {
   "cell_type": "code",
   "execution_count": 19,
   "metadata": {},
   "outputs": [
    {
     "name": "stdout",
     "output_type": "stream",
     "text": [
      "           timestamp      txId     fee  transaction_size\n",
      "0         1231731025       171       0                58\n",
      "1         1231740133       183       0                58\n",
      "2         1231740736       185       0                58\n",
      "3         1231742062       187       0                58\n",
      "4         1231744600       192       0                49\n",
      "...              ...       ...     ...               ...\n",
      "10358261  1356997957  10572822  100000                58\n",
      "10358262  1356997957  10572823  100000                58\n",
      "10358263  1356997957  10572824  100000                58\n",
      "10358264  1356997957  10572825  100000                58\n",
      "10358265  1356997957  10572826  100000               107\n",
      "\n",
      "[10358266 rows x 4 columns]\n"
     ]
    }
   ],
   "source": [
    "# Merge the sizes with transactions\n",
    "merged_transactions = pd.merge(transactions_ncb, size_inputs, on='txId', how='left')\n",
    "merged_transactions = pd.merge(merged_transactions, size_outputs, on='txId', how='left')\n",
    "merged_transactions = merged_transactions.drop(columns=['blockId', 'isCoinbase'])\n",
    "\n",
    "INPUT_SIZE = 40\n",
    "OUTPUT_SIZE = 9\n",
    "\n",
    "# Calculate size of each transaction\n",
    "merged_transactions['transaction_size'] = merged_transactions['num_inputs'] * INPUT_SIZE + merged_transactions['num_outputs'] * OUTPUT_SIZE\n",
    "merged_transactions = merged_transactions.drop(columns=['num_inputs', 'num_outputs'])\n",
    "\n",
    "print(merged_transactions)"
   ]
  },
  {
   "cell_type": "code",
   "execution_count": 28,
   "metadata": {},
   "outputs": [
    {
     "name": "stdout",
     "output_type": "stream",
     "text": [
      "         timestamp        avgFee  congestion\n",
      "0       1231731025      0.000000          58\n",
      "1       1231740133      0.000000          58\n",
      "2       1231740736      0.000000          58\n",
      "3       1231742062      0.000000          58\n",
      "4       1231744600      0.000000          49\n",
      "...            ...           ...         ...\n",
      "130615  1356995372   2500.000000         766\n",
      "130616  1356996072  86570.743405       45913\n",
      "130617  1356996754  83062.015504       30225\n",
      "130618  1356997591  39178.822695       11358\n",
      "130619  1356997957  83861.003861       25663\n",
      "\n",
      "[130620 rows x 3 columns]\n"
     ]
    }
   ],
   "source": [
    "tt = merged_transactions.groupby('timestamp').agg({'fee': 'mean', 'transaction_size': 'sum'}).reset_index()\n",
    "tt = tt.rename(columns={'fee': 'avgFee', 'transaction_size': 'congestion'})\n",
    "print(tt)\n",
    "\n",
    "tt.plot.line(x='timestamp', y='avgFee', title='Andamento avgFee nel tempo')\n",
    "tt.plot.line(x='timestamp', y='congestion', title='Andamento congestione nel tempo')\n"
   ]
  },
  {
   "cell_type": "code",
   "execution_count": null,
   "metadata": {},
   "outputs": [],
   "source": [
    "tt.plot.hist('avgFee', bins=5000)"
   ]
  }
 ],
 "metadata": {
  "kernelspec": {
   "display_name": "Python 3",
   "language": "python",
   "name": "python3"
  },
  "language_info": {
   "codemirror_mode": {
    "name": "ipython",
    "version": 3
   },
   "file_extension": ".py",
   "mimetype": "text/x-python",
   "name": "python",
   "nbconvert_exporter": "python",
   "pygments_lexer": "ipython3",
   "version": "3.10.12"
  }
 },
 "nbformat": 4,
 "nbformat_minor": 2
}
