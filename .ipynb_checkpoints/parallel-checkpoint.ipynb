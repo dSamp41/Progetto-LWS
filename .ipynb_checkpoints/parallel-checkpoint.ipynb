{
 "cells": [
  {
   "cell_type": "code",
   "execution_count": 6,
   "id": "d6fbf4e9-98f3-40b6-9be4-690d42f1fcf8",
   "metadata": {},
   "outputs": [],
   "source": [
    "import dask.dataframe as dd\n",
    "import numpy as np\n",
    "import pandas as pd"
   ]
  },
  {
   "cell_type": "code",
   "execution_count": 7,
   "id": "14c77cc1-0b13-44b8-8b46-cd5cd83766b1",
   "metadata": {},
   "outputs": [
    {
     "name": "stdout",
     "output_type": "stream",
     "text": [
      "<class 'dask_expr.DataFrame'>\n",
      "Columns: 5 entries, timestamp to fee\n",
      "dtypes: int32(2), int64(2), int8(1)None\n"
     ]
    }
   ],
   "source": [
    "transactions = dd.read_csv(\n",
    "    \"datasets/transactions.csv\",\n",
    "    blocksize=20 * 1024 * 1024,\n",
    "    names=['timestamp', 'blockId', 'txId', 'isCoinbase', 'fee'],\n",
    "    dtype={'blockId': np.int32, 'txId': np.int32, 'isCoinbase': np.int8},\n",
    ")\n",
    "\n",
    "print(transactions.info())"
   ]
  },
  {
   "cell_type": "code",
   "execution_count": 18,
   "id": "12e9fc02-297d-4123-89ba-7e6db3b32093",
   "metadata": {
    "scrolled": true
   },
   "outputs": [
    {
     "ename": "TypeError",
     "evalue": "dask_expr._expr._emulate() got multiple values for keyword argument 'args'",
     "output_type": "error",
     "traceback": [
      "\u001b[0;31m---------------------------------------------------------------------------\u001b[0m",
      "\u001b[0;31mTypeError\u001b[0m                                 Traceback (most recent call last)",
      "Cell \u001b[0;32mIn[18], line 1\u001b[0m\n\u001b[0;32m----> 1\u001b[0m congDf \u001b[38;5;241m=\u001b[39m \u001b[43mgetTsCongestionDf\u001b[49m\u001b[43m(\u001b[49m\u001b[43mtransactions\u001b[49m\u001b[43m,\u001b[49m\u001b[43m \u001b[49m\u001b[43minputs\u001b[49m\u001b[43m,\u001b[49m\u001b[43m \u001b[49m\u001b[43moutputs\u001b[49m\u001b[43m)\u001b[49m\n\u001b[1;32m      2\u001b[0m congDf \u001b[38;5;241m=\u001b[39m congDf\u001b[38;5;241m.\u001b[39mcompute(num_workes\u001b[38;5;241m=\u001b[39m\u001b[38;5;241m4\u001b[39m)\n\u001b[1;32m      3\u001b[0m congDf\u001b[38;5;241m.\u001b[39msort_values(ascending\u001b[38;5;241m=\u001b[39m\u001b[38;5;28;01mFalse\u001b[39;00m, inplace\u001b[38;5;241m=\u001b[39m\u001b[38;5;28;01mTrue\u001b[39;00m)\n",
      "File \u001b[0;32m/tmp/ipykernel_18936/4242507615.py:55\u001b[0m, in \u001b[0;36mgetTsCongestionDf\u001b[0;34m(transactionsDf, inputsDf, outputsDf)\u001b[0m\n\u001b[1;32m     52\u001b[0m n \u001b[38;5;241m=\u001b[39m \u001b[38;5;241m572828\u001b[39m\n\u001b[1;32m     54\u001b[0m timestamps \u001b[38;5;241m=\u001b[39m transactionsDf[\u001b[38;5;124m'\u001b[39m\u001b[38;5;124mtimestamp\u001b[39m\u001b[38;5;124m'\u001b[39m][n:n\u001b[38;5;241m+\u001b[39m\u001b[38;5;241m500\u001b[39m]\n\u001b[0;32m---> 55\u001b[0m congs \u001b[38;5;241m=\u001b[39m \u001b[43mtimestamps\u001b[49m\u001b[38;5;241;43m.\u001b[39;49m\u001b[43mapply\u001b[49m\u001b[43m(\u001b[49m\u001b[43mgetCongestionAtTs\u001b[49m\u001b[43m,\u001b[49m\u001b[43m \u001b[49m\u001b[43margs\u001b[49m\u001b[38;5;241;43m=\u001b[39;49m\u001b[43m(\u001b[49m\u001b[43mtransactionsDf\u001b[49m\u001b[43m,\u001b[49m\u001b[43m \u001b[49m\u001b[43minputsDf\u001b[49m\u001b[43m,\u001b[49m\u001b[43m \u001b[49m\u001b[43moutputsDf\u001b[49m\u001b[43m)\u001b[49m\u001b[43m)\u001b[49m\n\u001b[1;32m     56\u001b[0m fees \u001b[38;5;241m=\u001b[39m timestamps\u001b[38;5;241m.\u001b[39mapply(\u001b[38;5;28;01mlambda\u001b[39;00m ts: getAverageFeeAtTimestamp(transactionsDf, ts))\n\u001b[1;32m     58\u001b[0m \u001b[38;5;28;01mreturn\u001b[39;00m pd\u001b[38;5;241m.\u001b[39mDataFrame({\u001b[38;5;124m'\u001b[39m\u001b[38;5;124mTimestamp\u001b[39m\u001b[38;5;124m'\u001b[39m: timestamps, \u001b[38;5;124m'\u001b[39m\u001b[38;5;124mCongestion\u001b[39m\u001b[38;5;124m'\u001b[39m: congs, \u001b[38;5;124m'\u001b[39m\u001b[38;5;124mFee\u001b[39m\u001b[38;5;124m'\u001b[39m: fee})\n",
      "File \u001b[0;32m~/.local/lib/python3.10/site-packages/dask_expr/_collection.py:4311\u001b[0m, in \u001b[0;36mSeries.apply\u001b[0;34m(self, function, meta, axis, *args, **kwargs)\u001b[0m\n\u001b[1;32m   4309\u001b[0m \u001b[38;5;28mself\u001b[39m\u001b[38;5;241m.\u001b[39m_validate_axis(axis)\n\u001b[1;32m   4310\u001b[0m \u001b[38;5;28;01mif\u001b[39;00m meta \u001b[38;5;129;01mis\u001b[39;00m no_default:\n\u001b[0;32m-> 4311\u001b[0m     meta \u001b[38;5;241m=\u001b[39m expr\u001b[38;5;241m.\u001b[39m_emulate(M\u001b[38;5;241m.\u001b[39mapply, \u001b[38;5;28mself\u001b[39m, function, args\u001b[38;5;241m=\u001b[39margs, udf\u001b[38;5;241m=\u001b[39m\u001b[38;5;28;01mTrue\u001b[39;00m, \u001b[38;5;241m*\u001b[39m\u001b[38;5;241m*\u001b[39mkwargs)\n\u001b[1;32m   4312\u001b[0m     warnings\u001b[38;5;241m.\u001b[39mwarn(meta_warning(meta))\n\u001b[1;32m   4313\u001b[0m \u001b[38;5;28;01mreturn\u001b[39;00m new_collection(\u001b[38;5;28mself\u001b[39m\u001b[38;5;241m.\u001b[39mexpr\u001b[38;5;241m.\u001b[39mapply(function, \u001b[38;5;241m*\u001b[39margs, meta\u001b[38;5;241m=\u001b[39mmeta, \u001b[38;5;241m*\u001b[39m\u001b[38;5;241m*\u001b[39mkwargs))\n",
      "\u001b[0;31mTypeError\u001b[0m: dask_expr._expr._emulate() got multiple values for keyword argument 'args'"
     ]
    }
   ],
   "source": [
    "congDf = getTsCongestionDf(transactions, inputs, outputs)\n",
    "congDf = congDf.compute(num_workes=4)\n",
    "congDf.sort_values(ascending=False, inplace=True)\n",
    "\n",
    "print(congDf)"
   ]
  },
  {
   "cell_type": "code",
   "execution_count": 19,
   "id": "c2d0c333-89e4-4d2a-9d8a-7149d601e588",
   "metadata": {},
   "outputs": [
    {
     "name": "stdout",
     "output_type": "stream",
     "text": [
      "   X   Y    Z\n",
      "0  1   2  100\n",
      "1  2   4  200\n",
      "2  3   6  300\n",
      "3  4   8  400\n",
      "4  5  10  500\n",
      "1500\n"
     ]
    }
   ],
   "source": [
    "def f(x, lenDf):\n",
    "    return 100*x\n",
    "\n",
    "ws = {'Words': [\"A\", \"Aus\", \"AO\", \"Onna\", 'Amogus'], 'Len': [1,3,2,4,5]}\n",
    "\n",
    "dict = {'X': [\"A\", \"Amogus\", \"A\", \"Onna\", \"A\"}\n",
    "df = pd.DataFrame(dict)\n",
    "\n",
    "df['Z'] = f(df['X'])\n",
    "print(df)\n",
    "\n",
    "print(df['Z'].sum())"
   ]
  },
  {
   "cell_type": "code",
   "execution_count": null,
   "id": "d15887c5-e5d3-4b5b-8edc-1e51fc931a20",
   "metadata": {},
   "outputs": [],
   "source": []
  }
 ],
 "metadata": {
  "kernelspec": {
   "display_name": "Python 3 (ipykernel)",
   "language": "python",
   "name": "python3"
  },
  "language_info": {
   "codemirror_mode": {
    "name": "ipython",
    "version": 3
   },
   "file_extension": ".py",
   "mimetype": "text/x-python",
   "name": "python",
   "nbconvert_exporter": "python",
   "pygments_lexer": "ipython3",
   "version": "3.10.12"
  }
 },
 "nbformat": 4,
 "nbformat_minor": 5
}
