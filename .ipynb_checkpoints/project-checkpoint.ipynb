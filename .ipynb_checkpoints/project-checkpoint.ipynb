{
 "cells": [
  {
   "cell_type": "code",
   "execution_count": 1,
   "id": "3a239d86-b030-4ae7-a3e5-bd405f6fb21c",
   "metadata": {},
   "outputs": [],
   "source": [
    "import pandas as pd\n",
    "import numpy as np\n",
    "import matplotlib.pyplot as plt\n",
    "\n",
    "base: str = \"./datasets/\""
   ]
  },
  {
   "cell_type": "markdown",
   "id": "84c60249-5b2a-4c75-a1c8-92fca38d6c20",
   "metadata": {},
   "source": [
    "# Load Transactions dataset"
   ]
  },
  {
   "cell_type": "code",
   "execution_count": 2,
   "id": "0607d1ef-b88f-418c-8261-502cc048f8e2",
   "metadata": {},
   "outputs": [
    {
     "data": {
      "text/plain": [
       "'\\nmax vals\\ntimestamp: 1356997957 -> int64\\nblockId: 214562 -> int32\\ntxId: 10572826 -> int32\\nisCoinbase -> np.bool_\\nfee: 17179869184 -> int64\\n'"
      ]
     },
     "execution_count": 2,
     "metadata": {},
     "output_type": "execute_result"
    }
   ],
   "source": [
    "transactions = pd.read_csv(\n",
    "    base + \"transactions.csv\",\n",
    "    names=['timestamp', 'blockId', 'txId', 'isCoinbase', 'fee'],\n",
    "    dtype={'blockId': np.int32, 'txId': np.int32, 'isCoinbase': np.int8},\n",
    "    parse_dates=True\n",
    ")\n",
    "\n",
    "#print(transactions.info())\n",
    "#print(pd.concat([transactions.head(), transactions.tail()]))\n",
    "#print(transactions.head())\n",
    "#print(transactions.tail())\n",
    "\n",
    "'''\n",
    "max vals\n",
    "timestamp: 1356997957 -> int64\n",
    "blockId: 214562 -> int32\n",
    "txId: 10572826 -> int32\n",
    "isCoinbase -> np.bool_\n",
    "fee: 17179869184 -> int64\n",
    "'''\n",
    "\n",
    "#print(transactions.nlargest(5, 'fee'))\n"
   ]
  },
  {
   "cell_type": "markdown",
   "id": "0b5f9846-5e8e-43fa-82ba-a50ec7f601eb",
   "metadata": {},
   "source": [
    "# Load Inputs dataset"
   ]
  },
  {
   "cell_type": "code",
   "execution_count": 3,
   "id": "ea0539cd-42a8-428f-8573-06de9d999c86",
   "metadata": {},
   "outputs": [],
   "source": [
    "inputs = pd.read_csv(\n",
    "    base + \"inputs.csv\",\n",
    "    names=['txId', 'prevTxId', 'prevTxPos'],\n",
    "    dtype={'txId': np.int32, 'prevTxId': np.int32, 'prevTxPos': np.int16},\n",
    ")"
   ]
  },
  {
   "cell_type": "markdown",
   "id": "3030dc47-57ba-415f-a28f-183541bbfb8f",
   "metadata": {},
   "source": [
    "# Load Outputs dataset "
   ]
  },
  {
   "cell_type": "code",
   "execution_count": 4,
   "id": "ef4a30e0-b34c-4fd0-a38d-8ac5e06f5d1d",
   "metadata": {},
   "outputs": [],
   "source": [
    "outputs = pd.read_csv(\n",
    "    base + \"outputs.csv\",\n",
    "    names=['txId', 'txPos', 'addressId', 'amount', 'scriptType'],\n",
    "    dtype={'txId': np.int32, 'txPos': np.int16, 'addressId': np.int32, 'amount': np.int64, 'scriptType': np.int8}\n",
    ")\n",
    "\n",
    "#print(outputs.info())"
   ]
  },
  {
   "cell_type": "markdown",
   "id": "8d0f9e24-6f71-4105-8118-090f8d12f205",
   "metadata": {},
   "source": [
    "# Load Mappings dataset"
   ]
  },
  {
   "cell_type": "code",
   "execution_count": null,
   "id": "fb76b481-0586-4ea1-8390-a074ede057d1",
   "metadata": {},
   "outputs": [],
   "source": [
    "mappings = pd.read_csv(\n",
    "    base + \"mappings.csv\",\n",
    "    names=['addressId', 'hash'],\n",
    "    dtype={'addressId': str, 'hash': np.int32}\n",
    ")"
   ]
  },
  {
   "cell_type": "markdown",
   "id": "befce5ba-46e6-4b8e-963a-4d0ff011bb60",
   "metadata": {},
   "source": [
    "# Script table"
   ]
  },
  {
   "cell_type": "code",
   "execution_count": null,
   "id": "09b8455f-2399-4c42-9963-cf647808a81a",
   "metadata": {},
   "outputs": [],
   "source": [
    "data = {'scriptCode': [0,1,2,3,4,5,6,7], \n",
    "        'scriptType':[\"Unknown\", \"P2PK\", \"P2KH\", \"P2SH\", \"RETURN\", \"EMPTY\", \"P2WPKH\", \"P2WSH\"],\n",
    "        'scriptSize': [0, 153, 180, 291, 0, 0, 0, 0]\n",
    "       }\n",
    "\n",
    "scripts = pd.DataFrame(\n",
    "    data,\n",
    "    #dtypes={'scriptCode': np.int8, 'scriptType': str, 'scriptSize': np.int8}\n",
    "                  \n",
    ")\n",
    "print(scripts.info())\n",
    "print(scripts)\n"
   ]
  },
  {
   "cell_type": "markdown",
   "id": "a065358c-b720-418c-8a86-ed8fa8073c8b",
   "metadata": {},
   "source": [
    "# Size of transactions"
   ]
  },
  {
   "cell_type": "code",
   "execution_count": null,
   "id": "31511ec3-7371-43b6-8b7a-5d4c3f7e3f30",
   "metadata": {},
   "outputs": [],
   "source": [
    "#Df to have the num of transactions for every timestamp\n",
    "transCount = transactions \\\n",
    "    .groupby('timestamp')['txId'].count() \\\n",
    "    .reset_index() \\\n",
    "    .rename(columns={'txId':'txCount'})\n",
    "print(transCount)\n",
    "\n",
    "transCount.plot.line(title='Numero di transazioni nel tempo', x='timestamp', y='txCount')"
   ]
  },
  {
   "cell_type": "markdown",
   "id": "ea72ad75-d6af-47d1-9b14-c8765d809372",
   "metadata": {},
   "source": [
    "# Utils"
   ]
  },
  {
   "cell_type": "code",
   "execution_count": 22,
   "id": "253b63c8-54b0-4f0c-b4a3-99442309f926",
   "metadata": {},
   "outputs": [],
   "source": [
    "def getTransactionInputs(inputsDf: pd.DataFrame, txId: int) -> pd.DataFrame:\n",
    "    ''' Get all inputs of a transaction '''\n",
    "    cond = inputsDf['txId'] == txId\n",
    "    return inputsDf[cond]\n",
    "\n",
    "def getTransactionOutputs(outputsDf: pd.DataFrame, txId: int) -> pd.DataFrame:\n",
    "    ''' Get all outputs of a transaction '''\n",
    "    \n",
    "    cond = outputsDf['txId'] == txId\n",
    "    return outputsDf[cond]\n",
    "\n",
    "def getTransactionSize(transactionsDf: pd.DataFrame, inputsDf: pd.DataFrame, outputsDf: pd.DataFrame, txId: int) -> float:\n",
    "    ''' Ottieni la dimensione di una transazione '''\n",
    "    \n",
    "    INPUT_SIZE = 40\n",
    "    OUTPUT_SIZE = 9\n",
    "\n",
    "    num_inputs = len(getTransactionInputs(inputsDf, txId))\n",
    "    num_outputs = len(getTransactionOutputs(outputsDf, txId))\n",
    "    script_size = 0\n",
    "\n",
    "    # TODO: num_outputs > 1 ==> script diversi; quale contare?\n",
    "    return INPUT_SIZE * num_inputs + OUTPUT_SIZE * num_outputs + script_size\n",
    "\n",
    "def getTransactionsAtTimestamp(transactionsDf: pd.DataFrame, timestamp: int) -> pd.DataFrame:\n",
    "    \"\"\" Get all transaction at a given timestamp \n",
    "    \n",
    "    Returns:\n",
    "    DF<timestamp, blockId, txId, isCoinbase, fee>\"\"\"\n",
    "\n",
    "    cond = transactionsDf['timestamp'] == timestamp\n",
    "    return transactionsDf[cond]\n",
    "\n",
    "\n",
    "def getCongestionAtTs(timestamp: int, transactionsDf: pd.DataFrame, inputsDf: pd.DataFrame, outputsDf: pd.DataFrame) -> int:\n",
    "    \"\"\" Get the congestion at a given timestamp \"\"\"\n",
    "    \n",
    "    transactions_at_ts = getTransactionsAtTimestamp(transactionsDf, timestamp).drop(columns=[\"timestamp\", \"blockId\", \"isCoinbase\", \"fee\"])\n",
    "\n",
    "    #tx_sizes = [getTransactionSize(transactionsDf, inputsDf, outputsDf, txId) for txId in transactions_at_ts['txId']]\n",
    "    #return sum(tx_sizes)    \n",
    "    transactions_at_ts['size'] = getTransactionSize(transactions_at_ts['timestamp'])\n",
    "    return transactions_at_ts['size'].sum()\n",
    "\n",
    "\n",
    "def getAverageFeeAtTimestamp(transactionsDf: pd.DataFrame, timestamp: int) -> float:\n",
    "    tx_ts: pd.DataFrame = getTransactionsAtTimestamp(transactionsDf, timestamp)\n",
    "\n",
    "    return tx_ts['fee'].mean()\n",
    "\n",
    "\n",
    "def getTsCongestionDf(transactionsDf: pd.DataFrame, inputsDf: pd.DataFrame, outputsDf: pd.DataFrame) -> pd.DataFrame:\n",
    "    ''' STEPS:\n",
    "    Filter transactionsDf (remove coinbases)\n",
    "    '''\n",
    "    \n",
    "    not_coinbase = transactionsDf['isCoinbase'] == 0\n",
    "    transactionsDf = transactionsDf[not_coinbase]\n",
    "\n",
    "    n = 572828\n",
    "    \n",
    "    timestamps = transactionsDf['timestamp'][n:n+500]\n",
    "    #congs = timestamps.apply(getCongestionAtTs, args=(transactionsDf, inputsDf, outputsDf))\n",
    "    # Vectorize congs\n",
    "    congs = getCongestionAtTs(timestamps, transactionsDf, inputsDf, outputsDf)\n",
    "    fees = timestamps.apply(lambda ts: getAverageFeeAtTimestamp(transactionsDf, ts))\n",
    "    \n",
    "    return pd.DataFrame({'Timestamp': timestamps, 'Congestion': congs, 'Fee': fee})"
   ]
  },
  {
   "cell_type": "code",
   "execution_count": null,
   "id": "11af5e64-0410-4fae-96de-5a8ca52a7930",
   "metadata": {},
   "outputs": [],
   "source": [
    "# test getTransactionInputs, getTransactionOutputs\n",
    "TX_ID = 10888\n",
    "\n",
    "txInputs = getTransactionInputs(inputs, TX_ID)\n",
    "print(f'#tx_inputs: {len(txInputs)}')\n",
    "print(txInputs)\n",
    "\n",
    "txOutputs = getTransactionOutputs(outputs, TX_ID)\n",
    "print(f'#tx_outputs: {len(txOutputs)}')\n",
    "print(txOutputs)"
   ]
  },
  {
   "cell_type": "code",
   "execution_count": null,
   "id": "572904bb-81f4-4258-a043-fb80d98d0d94",
   "metadata": {
    "scrolled": true
   },
   "outputs": [],
   "source": [
    "#get all transactions with more then 1 output\n",
    "'''\n",
    "for id in transactions['txId']:\n",
    "    n_outputs = len(getTransactionOutputs(outputs, id))\n",
    "\n",
    "    if n_outputs != 1:\n",
    "        print(f'txId:{id:}, num_outputs: {n_outputs}')\n",
    "\n",
    "print(\"end\")'''"
   ]
  },
  {
   "cell_type": "code",
   "execution_count": 23,
   "id": "1a62b64e-a21a-49f9-b4cf-3d115e951b10",
   "metadata": {},
   "outputs": [
    {
     "name": "stdout",
     "output_type": "stream",
     "text": [
      "           timestamp  blockId      txId  isCoinbase    fee\n",
      "10572428  1356997591   214561  10572426           0      0\n",
      "10572429  1356997591   214561  10572427           0      0\n",
      "10572430  1356997591   214561  10572428           0      0\n",
      "10572431  1356997591   214561  10572429           0  20000\n",
      "10572432  1356997591   214561  10572430           0      0\n",
      "...              ...      ...       ...         ...    ...\n",
      "10572564  1356997591   214561  10572562           0      0\n",
      "10572565  1356997591   214561  10572563           0      0\n",
      "10572566  1356997591   214561  10572564           0      0\n",
      "10572567  1356997591   214561  10572565           0      0\n",
      "10572568  1356997591   214561  10572566           0      0\n",
      "\n",
      "[141 rows x 5 columns]\n"
     ]
    }
   ],
   "source": [
    "# test getTransactionsAtTimestamp\n",
    "timestamp = 1356997591\n",
    "transactions_ncb = transactions[transactions['isCoinbase'] == 0]\n",
    "\n",
    "tx_ts = getTransactionsAtTimestamp(transactions_ncb, timestamp)\n",
    "\n",
    "print(tx_ts)"
   ]
  },
  {
   "cell_type": "code",
   "execution_count": 19,
   "id": "0c810541-bff2-49d5-9171-b0a1404c256d",
   "metadata": {
    "scrolled": true
   },
   "outputs": [
    {
     "ename": "KeyError",
     "evalue": "'timestamp'",
     "output_type": "error",
     "traceback": [
      "\u001b[0;31m---------------------------------------------------------------------------\u001b[0m",
      "\u001b[0;31mKeyError\u001b[0m                                  Traceback (most recent call last)",
      "File \u001b[0;32m~/.local/lib/python3.10/site-packages/pandas/core/indexes/base.py:3805\u001b[0m, in \u001b[0;36mIndex.get_loc\u001b[0;34m(self, key)\u001b[0m\n\u001b[1;32m   3804\u001b[0m \u001b[38;5;28;01mtry\u001b[39;00m:\n\u001b[0;32m-> 3805\u001b[0m     \u001b[38;5;28;01mreturn\u001b[39;00m \u001b[38;5;28;43mself\u001b[39;49m\u001b[38;5;241;43m.\u001b[39;49m\u001b[43m_engine\u001b[49m\u001b[38;5;241;43m.\u001b[39;49m\u001b[43mget_loc\u001b[49m\u001b[43m(\u001b[49m\u001b[43mcasted_key\u001b[49m\u001b[43m)\u001b[49m\n\u001b[1;32m   3806\u001b[0m \u001b[38;5;28;01mexcept\u001b[39;00m \u001b[38;5;167;01mKeyError\u001b[39;00m \u001b[38;5;28;01mas\u001b[39;00m err:\n",
      "File \u001b[0;32mindex.pyx:167\u001b[0m, in \u001b[0;36mpandas._libs.index.IndexEngine.get_loc\u001b[0;34m()\u001b[0m\n",
      "File \u001b[0;32mindex.pyx:196\u001b[0m, in \u001b[0;36mpandas._libs.index.IndexEngine.get_loc\u001b[0;34m()\u001b[0m\n",
      "File \u001b[0;32mpandas/_libs/hashtable_class_helper.pxi:7081\u001b[0m, in \u001b[0;36mpandas._libs.hashtable.PyObjectHashTable.get_item\u001b[0;34m()\u001b[0m\n",
      "File \u001b[0;32mpandas/_libs/hashtable_class_helper.pxi:7089\u001b[0m, in \u001b[0;36mpandas._libs.hashtable.PyObjectHashTable.get_item\u001b[0;34m()\u001b[0m\n",
      "\u001b[0;31mKeyError\u001b[0m: 'timestamp'",
      "\nThe above exception was the direct cause of the following exception:\n",
      "\u001b[0;31mKeyError\u001b[0m                                  Traceback (most recent call last)",
      "Cell \u001b[0;32mIn[19], line 3\u001b[0m\n\u001b[1;32m      1\u001b[0m \u001b[38;5;66;03m# test getCongestionAtTs\u001b[39;00m\n\u001b[0;32m----> 3\u001b[0m congestion \u001b[38;5;241m=\u001b[39m \u001b[43mgetCongestionAtTs\u001b[49m\u001b[43m(\u001b[49m\u001b[43mtimestamp\u001b[49m\u001b[43m,\u001b[49m\u001b[43m \u001b[49m\u001b[43mtransactions_ncb\u001b[49m\u001b[43m,\u001b[49m\u001b[43m \u001b[49m\u001b[43minputs\u001b[49m\u001b[43m,\u001b[49m\u001b[43m \u001b[49m\u001b[43moutputs\u001b[49m\u001b[43m)\u001b[49m\n\u001b[1;32m      4\u001b[0m \u001b[38;5;28mprint\u001b[39m(\u001b[38;5;124mf\u001b[39m\u001b[38;5;124m'\u001b[39m\u001b[38;5;124mcongestion @\u001b[39m\u001b[38;5;132;01m{\u001b[39;00mtimestamp\u001b[38;5;132;01m}\u001b[39;00m\u001b[38;5;124m: \u001b[39m\u001b[38;5;132;01m{\u001b[39;00mcongestion\u001b[38;5;132;01m}\u001b[39;00m\u001b[38;5;124m'\u001b[39m)\n\u001b[1;32m      6\u001b[0m fee \u001b[38;5;241m=\u001b[39m getAverageFeeAtTimestamp(transactions_ncb, timestamp)\n",
      "Cell \u001b[0;32mIn[18], line 42\u001b[0m, in \u001b[0;36mgetCongestionAtTs\u001b[0;34m(timestamp, transactionsDf, inputsDf, outputsDf)\u001b[0m\n\u001b[1;32m     38\u001b[0m transactions_at_ts \u001b[38;5;241m=\u001b[39m getTransactionsAtTimestamp(transactionsDf, timestamp)\u001b[38;5;241m.\u001b[39mdrop(columns\u001b[38;5;241m=\u001b[39m[\u001b[38;5;124m\"\u001b[39m\u001b[38;5;124mtimestamp\u001b[39m\u001b[38;5;124m\"\u001b[39m, \u001b[38;5;124m\"\u001b[39m\u001b[38;5;124mblockId\u001b[39m\u001b[38;5;124m\"\u001b[39m, \u001b[38;5;124m\"\u001b[39m\u001b[38;5;124misCoinbase\u001b[39m\u001b[38;5;124m\"\u001b[39m, \u001b[38;5;124m\"\u001b[39m\u001b[38;5;124mfee\u001b[39m\u001b[38;5;124m\"\u001b[39m])\n\u001b[1;32m     40\u001b[0m \u001b[38;5;66;03m#tx_sizes = [getTransactionSize(transactionsDf, inputsDf, outputsDf, txId) for txId in transactions_at_ts['txId']]\u001b[39;00m\n\u001b[1;32m     41\u001b[0m \u001b[38;5;66;03m#return sum(tx_sizes)    \u001b[39;00m\n\u001b[0;32m---> 42\u001b[0m transactions_at_ts[\u001b[38;5;124m'\u001b[39m\u001b[38;5;124msize\u001b[39m\u001b[38;5;124m'\u001b[39m] \u001b[38;5;241m=\u001b[39m getTransactionSize(\u001b[43mtransactions_at_ts\u001b[49m\u001b[43m[\u001b[49m\u001b[38;5;124;43m'\u001b[39;49m\u001b[38;5;124;43mtimestamp\u001b[39;49m\u001b[38;5;124;43m'\u001b[39;49m\u001b[43m]\u001b[49m)\n\u001b[1;32m     43\u001b[0m \u001b[38;5;28;01mreturn\u001b[39;00m transactions_at_ts[\u001b[38;5;124m'\u001b[39m\u001b[38;5;124msize\u001b[39m\u001b[38;5;124m'\u001b[39m]\u001b[38;5;241m.\u001b[39msum()\n",
      "File \u001b[0;32m~/.local/lib/python3.10/site-packages/pandas/core/frame.py:4102\u001b[0m, in \u001b[0;36mDataFrame.__getitem__\u001b[0;34m(self, key)\u001b[0m\n\u001b[1;32m   4100\u001b[0m \u001b[38;5;28;01mif\u001b[39;00m \u001b[38;5;28mself\u001b[39m\u001b[38;5;241m.\u001b[39mcolumns\u001b[38;5;241m.\u001b[39mnlevels \u001b[38;5;241m>\u001b[39m \u001b[38;5;241m1\u001b[39m:\n\u001b[1;32m   4101\u001b[0m     \u001b[38;5;28;01mreturn\u001b[39;00m \u001b[38;5;28mself\u001b[39m\u001b[38;5;241m.\u001b[39m_getitem_multilevel(key)\n\u001b[0;32m-> 4102\u001b[0m indexer \u001b[38;5;241m=\u001b[39m \u001b[38;5;28;43mself\u001b[39;49m\u001b[38;5;241;43m.\u001b[39;49m\u001b[43mcolumns\u001b[49m\u001b[38;5;241;43m.\u001b[39;49m\u001b[43mget_loc\u001b[49m\u001b[43m(\u001b[49m\u001b[43mkey\u001b[49m\u001b[43m)\u001b[49m\n\u001b[1;32m   4103\u001b[0m \u001b[38;5;28;01mif\u001b[39;00m is_integer(indexer):\n\u001b[1;32m   4104\u001b[0m     indexer \u001b[38;5;241m=\u001b[39m [indexer]\n",
      "File \u001b[0;32m~/.local/lib/python3.10/site-packages/pandas/core/indexes/base.py:3812\u001b[0m, in \u001b[0;36mIndex.get_loc\u001b[0;34m(self, key)\u001b[0m\n\u001b[1;32m   3807\u001b[0m     \u001b[38;5;28;01mif\u001b[39;00m \u001b[38;5;28misinstance\u001b[39m(casted_key, \u001b[38;5;28mslice\u001b[39m) \u001b[38;5;129;01mor\u001b[39;00m (\n\u001b[1;32m   3808\u001b[0m         \u001b[38;5;28misinstance\u001b[39m(casted_key, abc\u001b[38;5;241m.\u001b[39mIterable)\n\u001b[1;32m   3809\u001b[0m         \u001b[38;5;129;01mand\u001b[39;00m \u001b[38;5;28many\u001b[39m(\u001b[38;5;28misinstance\u001b[39m(x, \u001b[38;5;28mslice\u001b[39m) \u001b[38;5;28;01mfor\u001b[39;00m x \u001b[38;5;129;01min\u001b[39;00m casted_key)\n\u001b[1;32m   3810\u001b[0m     ):\n\u001b[1;32m   3811\u001b[0m         \u001b[38;5;28;01mraise\u001b[39;00m InvalidIndexError(key)\n\u001b[0;32m-> 3812\u001b[0m     \u001b[38;5;28;01mraise\u001b[39;00m \u001b[38;5;167;01mKeyError\u001b[39;00m(key) \u001b[38;5;28;01mfrom\u001b[39;00m \u001b[38;5;21;01merr\u001b[39;00m\n\u001b[1;32m   3813\u001b[0m \u001b[38;5;28;01mexcept\u001b[39;00m \u001b[38;5;167;01mTypeError\u001b[39;00m:\n\u001b[1;32m   3814\u001b[0m     \u001b[38;5;66;03m# If we have a listlike key, _check_indexing_error will raise\u001b[39;00m\n\u001b[1;32m   3815\u001b[0m     \u001b[38;5;66;03m#  InvalidIndexError. Otherwise we fall through and re-raise\u001b[39;00m\n\u001b[1;32m   3816\u001b[0m     \u001b[38;5;66;03m#  the TypeError.\u001b[39;00m\n\u001b[1;32m   3817\u001b[0m     \u001b[38;5;28mself\u001b[39m\u001b[38;5;241m.\u001b[39m_check_indexing_error(key)\n",
      "\u001b[0;31mKeyError\u001b[0m: 'timestamp'"
     ]
    }
   ],
   "source": [
    "# test getCongestionAtTs\n",
    "congestion = getCongestionAtTs(timestamp, transactions_ncb, inputs, outputs)\n",
    "print(f'congestion @{timestamp}: {congestion}')\n",
    "\n",
    "fee = getAverageFeeAtTimestamp(transactions_ncb, timestamp)\n",
    "print(f'avg fee @{timestamp}: {fee}')"
   ]
  },
  {
   "cell_type": "code",
   "execution_count": null,
   "id": "4f2cf70e-db70-4a37-8947-4f8af4428928",
   "metadata": {},
   "outputs": [],
   "source": [
    "# test getAverageFeeAtTimestamp\n",
    "fee = getAverageFeeAtTimestamp(transactions_ncb, timestamp)\n",
    "print(f'avg fee @{timestamp}: {fee}')"
   ]
  },
  {
   "cell_type": "code",
   "execution_count": null,
   "id": "2861b4fe-9d7a-4941-b8bb-71c0c7513832",
   "metadata": {},
   "outputs": [],
   "source": [
    "# fee test\n",
    "from datetime import datetime\n",
    "\n",
    "ts_start = 1231006505\n",
    "ts_end = 1356997957\n",
    "\n",
    "random_ts = transactions.sample(n=5)['timestamp'].to_list()\n",
    "print(random_ts)\n",
    "#ts = random.randint(ts_start, ts_end)\n",
    "\n",
    "for ts in random_ts:\n",
    "    fee = getAverageFeeAtTimestamp(transactions, ts)\n",
    "    print(f'avg fee @{ts}: {fee}')\n"
   ]
  },
  {
   "cell_type": "code",
   "execution_count": null,
   "id": "95b10588-83ce-4098-84bc-131489a17d06",
   "metadata": {
    "scrolled": true
   },
   "outputs": [],
   "source": [
    "#congDf: pd.DataFrame = getTsCongestionDf(transactions, inputs, outputs)\n",
    "\n",
    "#print(congDf.info())\n",
    "\n",
    "'''print(congDf.head())\n",
    "print(congDf.tail())'''\n",
    "\n",
    "#congDf['Fee'].plot(kind='hist')\n"
   ]
  },
  {
   "cell_type": "code",
   "execution_count": null,
   "id": "0a9d7011-cfb2-4839-860a-57562cfd53d1",
   "metadata": {
    "scrolled": true
   },
   "outputs": [],
   "source": [
    "# plots\n",
    "fig, axs = plt.subplots(1, 3, figsize=(20, 16))  # 1 rows, 3 column\n",
    "\n",
    "congDf.plot(kind='line', x='Congestion', y='Fee', title='Andamento fee rispetto congestione', ax=axs[0])\n",
    "congDf.plot(kind='line', x='Timestamp', y='Congestion', title='Andamento congestione nel tempo', ax=axs[1])\n",
    "congDf.plot(kind='line', x='Timestamp', y='Fee', title='Andamento fee nel tempo', ax=axs[2])\n"
   ]
  },
  {
   "cell_type": "code",
   "execution_count": 8,
   "id": "27a2b995-3c49-4ce6-879b-48451c5e9f73",
   "metadata": {},
   "outputs": [
    {
     "name": "stdout",
     "output_type": "stream",
     "text": [
      "<class 'pandas.core.frame.DataFrame'>\n",
      "RangeIndex: 21378770 entries, 0 to 21378769\n",
      "Data columns (total 7 columns):\n",
      " #   Column      Dtype\n",
      "---  ------      -----\n",
      " 0   timestamp   int64\n",
      " 1   blockId     int32\n",
      " 2   txId        int32\n",
      " 3   isCoinbase  int8 \n",
      " 4   fee         int64\n",
      " 5   prevTxId    int32\n",
      " 6   prevTxPos   int16\n",
      "dtypes: int16(1), int32(3), int64(2), int8(1)\n",
      "memory usage: 632.0 MB\n",
      "None\n",
      "    timestamp  blockId  txId  isCoinbase  fee  prevTxId  prevTxPos\n",
      "0  1231731025      170   171           0    0         9          0\n",
      "1  1231740133      181   183           0    0       171          1\n",
      "2  1231740736      182   185           0    0       183          1\n",
      "3  1231742062      183   187           0    0       185          1\n",
      "4  1231744600      187   192           0    0       187          0\n",
      "           timestamp  blockId      txId  isCoinbase     fee  prevTxId  \\\n",
      "21378765  1356997957   214562  10572823           0  100000  10572820   \n",
      "21378766  1356997957   214562  10572824           0  100000  10572820   \n",
      "21378767  1356997957   214562  10572825           0  100000  10572820   \n",
      "21378768  1356997957   214562  10572826           0  100000  10572820   \n",
      "21378769  1356997957   214562  10572826           0  100000  10569364   \n",
      "\n",
      "          prevTxPos  \n",
      "21378765          7  \n",
      "21378766          5  \n",
      "21378767          6  \n",
      "21378768          2  \n",
      "21378769          4  \n"
     ]
    }
   ],
   "source": [
    "fullI = transactions.merge(inputs, on='txId')\n",
    "print(fullI.info())\n",
    "\n",
    "print(fullI.head())\n",
    "print(fullI.tail())"
   ]
  },
  {
   "cell_type": "code",
   "execution_count": 7,
   "id": "b7265d91-1d79-438f-b8b6-c581ec90cbdc",
   "metadata": {},
   "outputs": [
    {
     "name": "stdout",
     "output_type": "stream",
     "text": [
      "<class 'pandas.core.frame.DataFrame'>\n",
      "RangeIndex: 24613803 entries, 0 to 24613802\n",
      "Data columns (total 9 columns):\n",
      " #   Column      Dtype\n",
      "---  ------      -----\n",
      " 0   timestamp   int64\n",
      " 1   blockId     int32\n",
      " 2   txId        int32\n",
      " 3   isCoinbase  int8 \n",
      " 4   fee         int64\n",
      " 5   txPos       int16\n",
      " 6   addressId   int32\n",
      " 7   amount      int64\n",
      " 8   scriptType  int8 \n",
      "dtypes: int16(1), int32(3), int64(3), int8(2)\n",
      "memory usage: 938.9 MB\n",
      "None\n",
      "    timestamp  blockId  txId  isCoinbase  fee  txPos  addressId      amount  \\\n",
      "0  1231006505        0     0           1    0      0          0  5000000000   \n",
      "1  1231469665        1     1           1    0      0          1  5000000000   \n",
      "2  1231469744        2     2           1    0      0          2  5000000000   \n",
      "3  1231470173        3     3           1    0      0          3  5000000000   \n",
      "4  1231470988        4     4           1    0      0          4  5000000000   \n",
      "\n",
      "   scriptType  \n",
      "0           1  \n",
      "1           1  \n",
      "2           1  \n",
      "3           1  \n",
      "4           1              timestamp  blockId      txId  isCoinbase     fee  prevTxId  \\\n",
      "21378765  1356997957   214562  10572823           0  100000  10572820   \n",
      "21378766  1356997957   214562  10572824           0  100000  10572820   \n",
      "21378767  1356997957   214562  10572825           0  100000  10572820   \n",
      "21378768  1356997957   214562  10572826           0  100000  10572820   \n",
      "21378769  1356997957   214562  10572826           0  100000  10569364   \n",
      "\n",
      "          prevTxPos  \n",
      "21378765          7  \n",
      "21378766          5  \n",
      "21378767          6  \n",
      "21378768          2  \n",
      "21378769          4  \n"
     ]
    }
   ],
   "source": [
    "fullO = transactions.merge(outputs, on='txId')\n",
    "print(fullO.info())\n",
    "print(fullO.head(), fullI.tail())"
   ]
  },
  {
   "cell_type": "code",
   "execution_count": null,
   "id": "197e40ae-d56e-48fd-95f2-723374da5772",
   "metadata": {},
   "outputs": [],
   "source": []
  }
 ],
 "metadata": {
  "kernelspec": {
   "display_name": "Python 3 (ipykernel)",
   "language": "python",
   "name": "python3"
  },
  "language_info": {
   "codemirror_mode": {
    "name": "ipython",
    "version": 3
   },
   "file_extension": ".py",
   "mimetype": "text/x-python",
   "name": "python",
   "nbconvert_exporter": "python",
   "pygments_lexer": "ipython3",
   "version": "3.10.12"
  }
 },
 "nbformat": 4,
 "nbformat_minor": 5
}
